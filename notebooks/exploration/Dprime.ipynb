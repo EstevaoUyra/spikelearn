{
 "cells": [
  {
   "cell_type": "markdown",
   "metadata": {},
   "source": [
    "# Imports "
   ]
  },
  {
   "cell_type": "code",
   "execution_count": null,
   "metadata": {},
   "outputs": [],
   "source": [
    "# Data manipulation\n",
    "import numpy as np\n",
    "import pandas as pd\n",
    "\n",
    "# Plotting\n",
    "import matplotlib.pyplot as plt\n",
    "import matplotlib as mpl\n",
    "import seaborn as sns\n",
    "%matplotlib inline\n",
    "\n",
    "# spikelearn\n",
    "import os\n",
    "os.chdir('../../')\n",
    "import sys\n",
    "sys.path.append('.')\n",
    "\n",
    "from spikelearn.data import io\n",
    "from spikelearn.data.selection import select\n",
    "from spikelearn.visuals.visuals import raster_multiple, raster_plot"
   ]
  },
  {
   "cell_type": "markdown",
   "metadata": {},
   "source": [
    "## Before vs After changepoint"
   ]
  },
  {
   "cell_type": "code",
   "execution_count": null,
   "metadata": {},
   "outputs": [],
   "source": [
    "label = 'DRRD 9'\n",
    "savedir = 'data/results/duration/d_prime'\n",
    "filename = '{}_Dprime_cp_init.csv'.format(label)\n",
    "res = pd.read_csv('{}/{}'.format(savedir, filename) )\n",
    "d = res.melt(id_vars = ['unit', 'before_cp']).groupby(['unit', 'before_cp']).max().value"
   ]
  },
  {
   "cell_type": "code",
   "execution_count": null,
   "metadata": {},
   "outputs": [],
   "source": [
    "d.unstack('before_cp').transpose().plot()"
   ]
  }
 ],
 "metadata": {
  "kernelspec": {
   "display_name": "Python [conda env:ratLearn]",
   "language": "python",
   "name": "conda-env-ratLearn-py"
  },
  "language_info": {
   "codemirror_mode": {
    "name": "ipython",
    "version": 3
   },
   "file_extension": ".py",
   "mimetype": "text/x-python",
   "name": "python",
   "nbconvert_exporter": "python",
   "pygments_lexer": "ipython3",
   "version": "3.6.3"
  }
 },
 "nbformat": 4,
 "nbformat_minor": 2
}
