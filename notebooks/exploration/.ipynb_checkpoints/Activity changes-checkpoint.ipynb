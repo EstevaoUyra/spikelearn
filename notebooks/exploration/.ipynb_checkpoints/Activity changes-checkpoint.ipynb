{
 "cells": [
  {
   "cell_type": "markdown",
   "metadata": {},
   "source": [
    "# Exploration of activity changes\n",
    "\n",
    "This notebook explores the following features of neural activity:\n",
    "\n",
    "- Decoding\n",
    "    - Using\n",
    "        - Logistic Regression\n",
    "        - Random forest\n",
    "        - XGBoost\n",
    "    - Model characteristics\n",
    "        - Confusion matrix\n",
    "        - \"Distance\"/\"predict_proba\" matrices\n",
    "        - Feature importances\n",
    "    - Comparing\n",
    "        - Before/after changepoint\n",
    "        - Autoshape/DRRD\n",
    "        \n",
    "\n",
    "- Differences\n",
    "    - Comparing\n",
    "        - Before/after changepoint\n",
    "        - Autoshape/DRRD\n",
    "    - Measures \n",
    "        - Distances\n",
    "        - Similarities\n",
    "        - Synchronization\n",
    "        - Via spikeutils"
   ]
  },
  {
   "cell_type": "markdown",
   "metadata": {
    "toc": "true"
   },
   "source": [
    "# Table of Contents\n",
    " <p><div class=\"lev1 toc-item\"><a href=\"#Exploration-of-activity-changes\" data-toc-modified-id=\"Exploration-of-activity-changes-1\"><span class=\"toc-item-num\">1&nbsp;&nbsp;</span>Exploration of activity changes</a></div><div class=\"lev1 toc-item\"><a href=\"#Feature-importances\" data-toc-modified-id=\"Feature-importances-2\"><span class=\"toc-item-num\">2&nbsp;&nbsp;</span>Feature importances</a></div>"
   ]
  },
  {
   "cell_type": "markdown",
   "metadata": {
    "collapsed": true
   },
   "source": [
    "# Feature importances"
   ]
  },
  {
   "cell_type": "code",
   "execution_count": 3,
   "metadata": {},
   "outputs": [],
   "source": [
    "from xgboost import XGBClassifier, XGBRegressor"
   ]
  },
  {
   "cell_type": "code",
   "execution_count": null,
   "metadata": {
    "collapsed": true
   },
   "outputs": [],
   "source": [
    "io.load(rat, 'xgboost_parameters')\n",
    "io.load(rat, 'elasticnet_parameters')"
   ]
  },
  {
   "cell_type": "code",
   "execution_count": 5,
   "metadata": {},
   "outputs": [],
   "source": [
    "clf = XGBClassifier()"
   ]
  },
  {
   "cell_type": "code",
   "execution_count": null,
   "metadata": {
    "collapsed": true
   },
   "outputs": [],
   "source": [
    "clf.fit()"
   ]
  }
 ],
 "metadata": {
  "hide_input": false,
  "kernelspec": {
   "display_name": "Python 3",
   "language": "python",
   "name": "python3"
  },
  "language_info": {
   "codemirror_mode": {
    "name": "ipython",
    "version": 3
   },
   "file_extension": ".py",
   "mimetype": "text/x-python",
   "name": "python",
   "nbconvert_exporter": "python",
   "pygments_lexer": "ipython3",
   "version": "3.6.2"
  },
  "toc": {
   "colors": {
    "hover_highlight": "#DAA520",
    "navigate_num": "#000000",
    "navigate_text": "#333333",
    "running_highlight": "#FF0000",
    "selected_highlight": "#FFD700",
    "sidebar_border": "#EEEEEE",
    "wrapper_background": "#FFFFFF"
   },
   "moveMenuLeft": true,
   "nav_menu": {
    "height": "30px",
    "width": "253px"
   },
   "navigate_menu": true,
   "number_sections": true,
   "sideBar": true,
   "threshold": 4,
   "toc_cell": true,
   "toc_section_display": "block",
   "toc_window_display": true,
   "widenNotebook": false
  }
 },
 "nbformat": 4,
 "nbformat_minor": 2
}
