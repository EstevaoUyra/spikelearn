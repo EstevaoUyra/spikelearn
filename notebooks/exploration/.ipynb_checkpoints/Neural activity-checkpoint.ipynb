{
 "cells": [
  {
   "cell_type": "markdown",
   "metadata": {},
   "source": [
    "# Exploration of neural activity"
   ]
  },
  {
   "cell_type": "markdown",
   "metadata": {},
   "source": [
    "This notebook explores the following features of the neural activity\n",
    "       \n",
    "- ISI Distribution\n",
    "    - Histograms\n",
    "    - Poisson Fano factor\n",
    "    \n",
    "    \n",
    "- Firing rate\n",
    "    - Estimated using\n",
    "        - Boxcar\n",
    "        - Smoothing with constant kernel\n",
    "        - Smoothing with optimal kernel (see [optimal_gauss_kernel_size](https://spykeutils.readthedocs.io/en/0.4.1/apidoc/spykeutils.html))\n",
    "    - Over\n",
    "        - Baseline\n",
    "        - Trial\n",
    "    - Marginalized on\n",
    "        - Trials\n",
    "        - Times\n",
    "        - Neurons\n",
    "    - Normalized by\n",
    "        - None\n",
    "        - Baseline activity\n",
    "        - Whole trial statistics\n",
    "        - ? Window statistics\n",
    "\n",
    "\n",
    "- Synchronicity, correlation, similarity\n",
    "    - Measured by\n",
    "        - cross-correlations (see [correlations](https://spykeutils.readthedocs.io/en/0.4.1/apidoc/spykeutils.html))\n",
    "        - distances (see [distances](https://spykeutils.readthedocs.io/en/0.4.1/apidoc/spykeutils.html))\n"
   ]
  },
  {
   "cell_type": "markdown",
   "metadata": {
    "toc": "true"
   },
   "source": [
    "# Table of Contents\n",
    " <p><div class=\"lev1 toc-item\"><a href=\"#Exploration-of-neural-activity\" data-toc-modified-id=\"Exploration-of-neural-activity-1\"><span class=\"toc-item-num\">1&nbsp;&nbsp;</span>Exploration of neural activity</a></div><div class=\"lev1 toc-item\"><a href=\"#Env-imports-and-settings\" data-toc-modified-id=\"Env-imports-and-settings-2\"><span class=\"toc-item-num\">2&nbsp;&nbsp;</span>Env imports and settings</a></div><div class=\"lev2 toc-item\"><a href=\"#Imports\" data-toc-modified-id=\"Imports-21\"><span class=\"toc-item-num\">2.1&nbsp;&nbsp;</span>Imports</a></div><div class=\"lev2 toc-item\"><a href=\"#Settings\" data-toc-modified-id=\"Settings-22\"><span class=\"toc-item-num\">2.2&nbsp;&nbsp;</span>Settings</a></div><div class=\"lev1 toc-item\"><a href=\"#Raw-data\" data-toc-modified-id=\"Raw-data-3\"><span class=\"toc-item-num\">3&nbsp;&nbsp;</span>Raw data</a></div><div class=\"lev2 toc-item\"><a href=\"#Number-of-neurons\" data-toc-modified-id=\"Number-of-neurons-31\"><span class=\"toc-item-num\">3.1&nbsp;&nbsp;</span>Number of neurons</a></div><div class=\"lev2 toc-item\"><a href=\"#Raster-plots\" data-toc-modified-id=\"Raster-plots-32\"><span class=\"toc-item-num\">3.2&nbsp;&nbsp;</span>Raster plots</a></div><div class=\"lev2 toc-item\"><a href=\"#Firing-rate\" data-toc-modified-id=\"Firing-rate-33\"><span class=\"toc-item-num\">3.3&nbsp;&nbsp;</span>Firing rate</a></div><div class=\"lev3 toc-item\"><a href=\"#Per-neuron\" data-toc-modified-id=\"Per-neuron-331\"><span class=\"toc-item-num\">3.3.1&nbsp;&nbsp;</span>Per neuron</a></div><div class=\"lev3 toc-item\"><a href=\"#Baseline\" data-toc-modified-id=\"Baseline-332\"><span class=\"toc-item-num\">3.3.2&nbsp;&nbsp;</span>Baseline</a></div><div class=\"lev3 toc-item\"><a href=\"#Per-trial\" data-toc-modified-id=\"Per-trial-333\"><span class=\"toc-item-num\">3.3.3&nbsp;&nbsp;</span>Per trial</a></div><div class=\"lev3 toc-item\"><a href=\"#Per-time\" data-toc-modified-id=\"Per-time-334\"><span class=\"toc-item-num\">3.3.4&nbsp;&nbsp;</span>Per time</a></div><div class=\"lev1 toc-item\"><a href=\"#Synchronicity\" data-toc-modified-id=\"Synchronicity-4\"><span class=\"toc-item-num\">4&nbsp;&nbsp;</span>Synchronicity</a></div>"
   ]
  },
  {
   "cell_type": "markdown",
   "metadata": {},
   "source": [
    "# Env imports and settings"
   ]
  },
  {
   "cell_type": "markdown",
   "metadata": {},
   "source": [
    "## Imports"
   ]
  },
  {
   "cell_type": "code",
   "execution_count": 27,
   "metadata": {
    "collapsed": true
   },
   "outputs": [],
   "source": [
    "# Data manipulation\n",
    "import numpy as np\n",
    "import pandas as pd\n",
    "\n",
    "# Plotting\n",
    "import matplotlib.pyplot as plt\n",
    "import matplotlib as mpl\n",
    "import seaborn as sns\n",
    "%matplotlib inline\n",
    "\n",
    "\n",
    "# Interaction"
   ]
  },
  {
   "cell_type": "markdown",
   "metadata": {},
   "source": [
    "## Settings"
   ]
  },
  {
   "cell_type": "code",
   "execution_count": 28,
   "metadata": {},
   "outputs": [],
   "source": [
    "# Definitions\n",
    "DRRD_RATS = [7,8,9,10]\n",
    "AUTOSHAPE_RATS = ['Autoshape 7','Autoshape 8','Autoshape 9','Autoshape 10']\n",
    "\n",
    "# Facilitators\n",
    "BASE_FIG_SIZE = np.array([20, 4])\n",
    "mpl.rc(\"figure\", figsize=BASE_FIG_SIZE)\n",
    "per_rat_plot = lambda nplots, rats: plt.subplots(nplots, len(rats), sharey=True, figsize=BASE_FIG_SIZE*[1, nplots])\n",
    "# example: fig, axes = per_rat_plot(4)"
   ]
  },
  {
   "cell_type": "markdown",
   "metadata": {},
   "source": [
    "# Raw data"
   ]
  },
  {
   "cell_type": "markdown",
   "metadata": {},
   "source": [
    "## Number of neurons"
   ]
  },
  {
   "cell_type": "markdown",
   "metadata": {},
   "source": []
  },
  {
   "cell_type": "markdown",
   "metadata": {},
   "source": [
    "## Raster plots"
   ]
  },
  {
   "cell_type": "markdown",
   "metadata": {},
   "source": []
  },
  {
   "cell_type": "markdown",
   "metadata": {},
   "source": [
    "## Firing rate"
   ]
  },
  {
   "cell_type": "markdown",
   "metadata": {},
   "source": [
    "### Per neuron"
   ]
  },
  {
   "cell_type": "markdown",
   "metadata": {},
   "source": []
  },
  {
   "cell_type": "markdown",
   "metadata": {},
   "source": [
    "### Baseline"
   ]
  },
  {
   "cell_type": "markdown",
   "metadata": {},
   "source": []
  },
  {
   "cell_type": "markdown",
   "metadata": {},
   "source": [
    "### Per trial"
   ]
  },
  {
   "cell_type": "markdown",
   "metadata": {},
   "source": []
  },
  {
   "cell_type": "markdown",
   "metadata": {},
   "source": [
    "### Per time"
   ]
  },
  {
   "cell_type": "markdown",
   "metadata": {},
   "source": []
  },
  {
   "cell_type": "markdown",
   "metadata": {},
   "source": [
    "# Synchronicity"
   ]
  },
  {
   "cell_type": "code",
   "execution_count": null,
   "metadata": {
    "collapsed": true
   },
   "outputs": [],
   "source": []
  },
  {
   "cell_type": "code",
   "execution_count": null,
   "metadata": {
    "collapsed": true
   },
   "outputs": [],
   "source": []
  }
 ],
 "metadata": {
  "hide_input": false,
  "kernelspec": {
   "display_name": "Python 3",
   "language": "python",
   "name": "python3"
  },
  "language_info": {
   "codemirror_mode": {
    "name": "ipython",
    "version": 3
   },
   "file_extension": ".py",
   "mimetype": "text/x-python",
   "name": "python",
   "nbconvert_exporter": "python",
   "pygments_lexer": "ipython3",
   "version": "3.6.2"
  },
  "toc": {
   "colors": {
    "hover_highlight": "#DAA520",
    "navigate_num": "#000000",
    "navigate_text": "#333333",
    "running_highlight": "#FF0000",
    "selected_highlight": "#FFD700",
    "sidebar_border": "#EEEEEE",
    "wrapper_background": "#FFFFFF"
   },
   "moveMenuLeft": true,
   "nav_menu": {
    "height": "240px",
    "width": "253px"
   },
   "navigate_menu": true,
   "number_sections": true,
   "sideBar": true,
   "threshold": 4,
   "toc_cell": true,
   "toc_section_display": "block",
   "toc_window_display": true,
   "widenNotebook": false
  }
 },
 "nbformat": 4,
 "nbformat_minor": 2
}
