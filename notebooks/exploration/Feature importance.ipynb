{
 "cells": [
  {
   "cell_type": "markdown",
   "metadata": {},
   "source": [
    "Exploration of activity changes\n",
    "\n",
    "This notebook explores the following features of neural activity:\n",
    "\n",
    "- Decoding\n",
    "    - Using\n",
    "        - Logistic Regression\n",
    "        - Random forest\n",
    "        - XGBoost\n",
    "    - Model characteristics\n",
    "        - Confusion matrix\n",
    "        - \"Distance\"/\"predict_proba\" matrices\n",
    "        - Feature importances\n",
    "    - Comparing\n",
    "        - Before/after changepoint\n",
    "        - Autoshape/DRRD\n",
    "        \n",
    "\n",
    "- Differences\n",
    "    - Comparing\n",
    "        - Before/after changepoint\n",
    "        - Autoshape/DRRD\n",
    "    - Measures \n",
    "        - Distances\n",
    "        - Similarities\n",
    "        - Synchronization\n",
    "        - Via spikeutils"
   ]
  },
  {
   "cell_type": "markdown",
   "metadata": {
    "toc": "true"
   },
   "source": [
    "# Table of Contents\n",
    " <p><div class=\"lev1 toc-item\"><a href=\"#Imports-and-functions\" data-toc-modified-id=\"Imports-and-functions-1\"><span class=\"toc-item-num\">1&nbsp;&nbsp;</span>Imports and functions</a></div><div class=\"lev1 toc-item\"><a href=\"#Feature-importances\" data-toc-modified-id=\"Feature-importances-2\"><span class=\"toc-item-num\">2&nbsp;&nbsp;</span>Feature importances</a></div><div class=\"lev2 toc-item\"><a href=\"#XGBoost\" data-toc-modified-id=\"XGBoost-21\"><span class=\"toc-item-num\">2.1&nbsp;&nbsp;</span>XGBoost</a></div><div class=\"lev2 toc-item\"><a href=\"#rbfSVM\" data-toc-modified-id=\"rbfSVM-22\"><span class=\"toc-item-num\">2.2&nbsp;&nbsp;</span>rbfSVM</a></div><div class=\"lev2 toc-item\"><a href=\"#Logistic-Regression\" data-toc-modified-id=\"Logistic-Regression-23\"><span class=\"toc-item-num\">2.3&nbsp;&nbsp;</span>Logistic Regression</a></div>"
   ]
  },
  {
   "cell_type": "markdown",
   "metadata": {},
   "source": [
    "# Imports and functions"
   ]
  },
  {
   "cell_type": "code",
   "execution_count": 35,
   "metadata": {
    "collapsed": true
   },
   "outputs": [],
   "source": [
    "\n",
    "import os\n",
    "os.chdir('../../')\n",
    "\n",
    "import pandas as pd\n",
    "import numpy as np\n",
    "\n",
    "from itertools import combinations"
   ]
  },
  {
   "cell_type": "code",
   "execution_count": 2,
   "metadata": {
    "collapsed": true
   },
   "outputs": [],
   "source": [
    "from sklearn.model_selection import GroupShuffleSplit, cross_val_predict, GroupKFold\n",
    "from sklearn.base import clone\n",
    "from sklearn.metrics import confusion_matrix\n",
    "from sklearn.preprocessing import LabelEncoder, OneHotEncoder"
   ]
  },
  {
   "cell_type": "code",
   "execution_count": 3,
   "metadata": {
    "collapsed": true
   },
   "outputs": [],
   "source": [
    "from spikelearn.data import io\n",
    "from spikelearn.data.selection import select, to_feature_array"
   ]
  },
  {
   "cell_type": "code",
   "execution_count": 4,
   "metadata": {
    "collapsed": true
   },
   "outputs": [],
   "source": [
    "import matplotlib.pyplot as plt\n",
    "import seaborn as sns\n",
    "%matplotlib inline"
   ]
  },
  {
   "cell_type": "code",
   "execution_count": 1,
   "metadata": {
    "collapsed": true
   },
   "outputs": [],
   "source": [
    "def shuffle_val_predict(clf, X, y, group=None, cv=GroupKFold(5), get_weights = True):\n",
    "    def get_predictions_or_proba(clf, X, mode):\n",
    "        \"\"\"\n",
    "        Local helper function to ease the switching between predict_proba and predict\n",
    "        \"\"\"\n",
    "        if mode == 'predict':\n",
    "            return pd.DataFrame(clf.predict(X), columns=['predictions'])\n",
    "        elif mode in ['proba','probability']:\n",
    "            try:\n",
    "                return pd.DataFrame(clf.predict_proba(X), columns=np.unique(y))\n",
    "            except:\n",
    "                return pd.DataFrame(clf.decision_function(X), columns=np.unique(y))\n",
    "\n",
    "    weights = pd.DataFrame()\n",
    "    results = pd.DataFrame()\n",
    "    n_y = len(np.unique(y))\n",
    "    for i, (train_idx, test_idx) in enumerate(cv.split(X, y, group)):\n",
    "        clf_local = clone(clf)\n",
    "        clf_local.fit(X[train_idx,:],y[train_idx])\n",
    "\n",
    "        for train_or_test in ['train', 'test']:\n",
    "            idx = test_idx if train_or_test is 'test' else train_idx\n",
    "            predictions = get_predictions_or_proba(clf_local, X[idx], 'proba')\n",
    "            predictions['cv'] = i\n",
    "            predictions['group'] = group[idx]\n",
    "            predictions['true'] = y[idx]\n",
    "            predictions['predictions'] = predictions.apply(lambda x: x.index[np.argmax(x.values[:n_y])], axis=1)\n",
    "            predictions['mean'] = predictions.apply(lambda x: np.sum(predictions.columns[:len(np.unique(y))].values*x.values[:len(np.unique(y))]), axis=1)\n",
    "            predictions['set'] = train_or_test\n",
    "            results = results.append(predictions)\n",
    "\n",
    "        if get_weights:\n",
    "            w = pd.DataFrame(clf_local.coef_, columns = np.arange(X.shape[1]), index = pd.Index(np.unique(y).astype(int), name='time'))\n",
    "            w = w.reset_index().melt(var_name='unit', id_vars=['time'])\n",
    "            w['shuffle'] = i\n",
    "            weights=weights.append(w)\n",
    "    if get_weights:\n",
    "        return results, weights\n",
    "    return results\n",
    "\n",
    "\n",
    "\n",
    "def xyt(df):\n",
    "    ndf = df.reset_index()\n",
    "    y = ndf.time.values\n",
    "    trial = ndf.trial.values\n",
    "    X = ndf.drop(['time', 'trial'],axis=1).values\n",
    "    return X, y, trial\n",
    "\n",
    "def baseline_correct(fa, label):\n",
    "    epochs = io.load(label, 'epoched_spikes')\n",
    "    mb = 1/epochs.baseline.apply(len).reset_index().drop('trial', axis=1).groupby('unit').apply(lambda x: np.mean(np.hstack(x.baseline)))\n",
    "\n",
    "    effective_baseline = select(epochs, is_selected=True).baseline.apply(len)+ mb\n",
    "    effective_baseline = pd.DataFrame(effective_baseline).reset_index().pivot(columns='unit', index='trial')\n",
    "    \n",
    "    df = fa.reset_index().apply(lambda x: [x[2:].values - (1/5)*effective_baseline.loc[x.trial].values], axis=1)\n",
    "    corrected = pd.DataFrame(np.vstack(df.values).squeeze(), index=fa.index, columns=fa.columns)\n",
    "    return corrected\n",
    "\n",
    "def product(X):\n",
    "    return np.array(list(map(lambda x: x[0]*x[1], combinations(X,2))))\n",
    "def add_products(X):\n",
    "    products = np.apply_along_axis(product, 1, X)\n",
    "    return np.hstack((X, products))\n",
    "\n",
    "def encode_by_rate_quantile(X, q):\n",
    "    le, oh = LabelEncoder(), OneHotEncoder()\n",
    "    \n",
    "    df = pd.DataFrame(X).apply(lambda x: pd.qcut(x, q, duplicates='drop'))\n",
    "    df = df.apply(lambda x: le.fit_transform(x))\n",
    "    sp = pd.DataFrame(index=df.index)\n",
    "    \n",
    "    for i in df.columns:\n",
    "        sp = sp.join(pd.DataFrame(oh.fit_transform(df[i].values.reshape(-1,1)).todense()), rsuffix='_unit_%d'%i, lsuffix='_unit_%d'%i)\n",
    "    \n",
    "    return sp"
   ]
  },
  {
   "cell_type": "markdown",
   "metadata": {
    "collapsed": true
   },
   "source": [
    "# Feature importances"
   ]
  },
  {
   "cell_type": "markdown",
   "metadata": {},
   "source": [
    "## XGBoost"
   ]
  },
  {
   "cell_type": "code",
   "execution_count": 188,
   "metadata": {
    "collapsed": true
   },
   "outputs": [],
   "source": [
    "from xgboost import XGBClassifier"
   ]
  },
  {
   "cell_type": "code",
   "execution_count": 189,
   "metadata": {
    "collapsed": true
   },
   "outputs": [],
   "source": [
    "xgb = XGBClassifier()\n"
   ]
  },
  {
   "cell_type": "code",
   "execution_count": 190,
   "metadata": {
    "collapsed": true
   },
   "outputs": [],
   "source": [
    "sh = GroupShuffleSplit(5, .2, .8)"
   ]
  },
  {
   "cell_type": "code",
   "execution_count": 226,
   "metadata": {
    "collapsed": true
   },
   "outputs": [],
   "source": [
    "res2 = shuffle_val_predict(xgb, X, y, trial,sh, get_weights=False)"
   ]
  },
  {
   "cell_type": "code",
   "execution_count": null,
   "metadata": {
    "collapsed": true
   },
   "outputs": [],
   "source": [
    "train = res.groupby('set').get_group('train')\n",
    "test = res.groupby('set').get_group('test')\n",
    "\n",
    "plt.figure(figsize=(14,6))\n",
    "plt.subplot(1,2,1)\n",
    "sns.heatmap(confusion_matrix(train.true, train.predictions))\n",
    "plt.subplot(1,2,2)\n",
    "sns.heatmap(confusion_matrix(test.true, test.predictions))"
   ]
  },
  {
   "cell_type": "code",
   "execution_count": 10,
   "metadata": {
    "collapsed": true
   },
   "outputs": [],
   "source": []
  },
  {
   "cell_type": "code",
   "execution_count": 218,
   "metadata": {},
   "outputs": [
    {
     "name": "stderr",
     "output_type": "stream",
     "text": [
      "/home/tevo/anaconda3/lib/python3.6/site-packages/ipykernel_launcher.py:5: PerformanceWarning: dropping on a non-lexsorted multi-index without a level parameter may impact performance.\n",
      "  \"\"\"\n"
     ]
    }
   ],
   "source": [
    "X,y, trial = xyt(corrected)"
   ]
  },
  {
   "cell_type": "code",
   "execution_count": 7,
   "metadata": {
    "collapsed": true
   },
   "outputs": [],
   "source": [
    "ns = io.load('DRRD 8', 'narrow_smoothed')"
   ]
  },
  {
   "cell_type": "code",
   "execution_count": 228,
   "metadata": {},
   "outputs": [
    {
     "data": {
      "text/plain": [
       "<matplotlib.axes._subplots.AxesSubplot at 0x7f48780c1c18>"
      ]
     },
     "execution_count": 228,
     "metadata": {},
     "output_type": "execute_result"
    },
    {
     "data": {
      "image/png": "[encoded data removed]",
      "text/plain": [
       "<matplotlib.figure.Figure at 0x7f486ffb9ef0>"
      ]
     },
     "metadata": {},
     "output_type": "display_data"
    }
   ],
   "source": [
    "train = res2.groupby('set').get_group('train')\n",
    "test = res2.groupby('set').get_group('test')\n",
    "\n",
    "plt.figure(figsize=(14,6))\n",
    "plt.subplot(2,2,1)\n",
    "sns.heatmap(confusion_matrix(train.true, train.predictions))\n",
    "plt.subplot(2,2,2)\n",
    "sns.heatmap(confusion_matrix(test.true, test.predictions))\n",
    "\n",
    "plt.subplot(2,2,3)\n",
    "sns.heatmap(train.groupby('true').mean().iloc[:,:10])\n",
    "plt.subplot(2,2,4)\n",
    "sns.heatmap(test.groupby('true').mean().iloc[:,:10])"
   ]
  },
  {
   "cell_type": "code",
   "execution_count": null,
   "metadata": {
    "collapsed": true
   },
   "outputs": [],
   "source": []
  },
  {
   "cell_type": "code",
   "execution_count": null,
   "metadata": {
    "collapsed": true
   },
   "outputs": [],
   "source": [
    "xgb.fit(X, y)"
   ]
  },
  {
   "cell_type": "code",
   "execution_count": 12,
   "metadata": {
    "collapsed": true
   },
   "outputs": [],
   "source": [
    "def xgb(label, method = 'proba'):\n",
    "#     params = io.load(rat, 'XGboost')\n",
    "#     params = dict(zip(params.columns, params.values.reshape(-1)))\n",
    "#     params['max_depth'] = int(params['max_depth'])\n",
    "#     params['n_estimators'] = int(params['n_estimators'])\n",
    "#     params['min_child_weight'] = int(params['min_child_weight'])\n",
    "    clf = XGBClassifier(n_estimators=12, subsample=.5, gamma=0.1, max_depth=16)\n",
    "    \n",
    "    s = io.load(label, 'wide_smoothed')\n",
    "    X,y, trial = to_feature_array(select(s.reset_index(), _min_duration=1.5, _min_trial=100, is_tired=False).set_index(['trial','unit']), subset='cropped')\n",
    "    \n",
    "    res = shuffle_val_predict(clf, X, y, trial, GroupShuffleSplit(30, 10, 80),method)\n",
    "    clf = clf.fit(X, y)\n",
    "    \n",
    "    return res, clf"
   ]
  },
  {
   "cell_type": "code",
   "execution_count": 61,
   "metadata": {},
   "outputs": [
    {
     "data": {
      "image/png": "[encoded data removed]",
      "text/plain": [
       "<matplotlib.figure.Figure at 0x7ff0be182630>"
      ]
     },
     "metadata": {},
     "output_type": "display_data"
    }
   ],
   "source": [
    "plt.figure(figsize=(12, 20))\n",
    "for i, rat in enumerate(['DRRD %d'%n for n in [7,8,9,10]]):\n",
    "    res, clf = xgb(rat)\n",
    "    \n",
    "    plt.subplot(4, 2, 2*i+1)\n",
    "    sns.heatmap(res.drop(['cv','group'],axis=1).groupby('true').mean()); plt.title(rat)\n",
    "    plt.subplot(4, 2, 2*i+2)\n",
    "    plt.bar(np.arange(clf.feature_importances_.shape[0]),clf.feature_importances_)"
   ]
  },
  {
   "cell_type": "code",
   "execution_count": 17,
   "metadata": {
    "collapsed": true
   },
   "outputs": [],
   "source": [
    "res, clf = xgb('DRRD 8', 'predict')"
   ]
  },
  {
   "cell_type": "code",
   "execution_count": 16,
   "metadata": {},
   "outputs": [
    {
     "data": {
      "text/plain": [
       "<matplotlib.axes._subplots.AxesSubplot at 0x7f949f5aee48>"
      ]
     },
     "execution_count": 16,
     "metadata": {},
     "output_type": "execute_result"
    },
    {
     "data": {
      "image/png": "[encoded data removed]",
      "text/plain": [
       "<matplotlib.figure.Figure at 0x7f949f62c048>"
      ]
     },
     "metadata": {},
     "output_type": "display_data"
    }
   ],
   "source": [
    "sns.heatmap(res.drop(['cv','group'],axis=1).groupby('true').mean())"
   ]
  },
  {
   "cell_type": "markdown",
   "metadata": {},
   "source": [
    "---"
   ]
  },
  {
   "cell_type": "markdown",
   "metadata": {},
   "source": [
    "## rbfSVM"
   ]
  },
  {
   "cell_type": "code",
   "execution_count": 148,
   "metadata": {
    "collapsed": true
   },
   "outputs": [],
   "source": [
    "from sklearn.svm import SVC"
   ]
  },
  {
   "cell_type": "code",
   "execution_count": 145,
   "metadata": {
    "collapsed": true
   },
   "outputs": [],
   "source": [
    "params = io.load('DRRD 7', 'rbfSVM')\n",
    "params= dict(zip(params.columns, params.values.reshape(-1)))"
   ]
  },
  {
   "cell_type": "code",
   "execution_count": 149,
   "metadata": {
    "collapsed": true
   },
   "outputs": [],
   "source": [
    "clf = SVC(**params)"
   ]
  },
  {
   "cell_type": "code",
   "execution_count": 150,
   "metadata": {
    "collapsed": true
   },
   "outputs": [],
   "source": [
    "def get_predictions_or_proba(clf, X, mode):\n",
    "    \"\"\"\n",
    "    Local helper function to ease the switching between predict_proba and predict\n",
    "    \"\"\"\n",
    "    if mode == 'predict':\n",
    "        return clf.predict(X)\n",
    "    elif mode in ['proba','probability']:\n",
    "        try:\n",
    "            return clf.predict_proba(X)\n",
    "        except:\n",
    "            return clf.decision_function(X)\n",
    "n_shuffles=10\n",
    "train_size=.8\n",
    "test_size=.2\n",
    "\n",
    "results = pd.DataFrame(columns = ['trial', 'shuffle', 'predictions','true'])\n",
    "sh = GroupShuffleSplit(n_splits=n_shuffles, train_size=train_size,test_size=test_size)\n",
    "\n",
    "for i, (train_idx, test_idx) in enumerate(sh.split(X,y,trial)):\n",
    "    clf_local = clone(clf)\n",
    "    clf_local.fit(X[train_idx,:],y[train_idx])\n",
    "\n",
    "    predictions = get_predictions_or_proba(clf_local, X[test_idx], 'predict' )\n",
    "    true = y[test_idx]\n",
    "    results = results.append(pd.DataFrame({'shuffle':i, 'predictions': predictions,\n",
    "                                            'trial':trial[test_idx], 'true':true} ) )"
   ]
  },
  {
   "cell_type": "markdown",
   "metadata": {},
   "source": [
    "## Logistic Regression"
   ]
  },
  {
   "cell_type": "code",
   "execution_count": 61,
   "metadata": {
    "collapsed": true
   },
   "outputs": [],
   "source": [
    "from ipywidgets import interact, HBox, interactive_output, interact_manual\n",
    "import ipywidgets.widgets as wdg\n",
    "\n",
    "from IPython.display import display\n",
    "\n",
    "from scipy.stats import pearsonr\n",
    "\n",
    "\n",
    "from sklearn.linear_model import LogisticRegression\n",
    "from sklearn.linear_model import SGDClassifier\n",
    "\n",
    "from sklearn.preprocessing import StandardScaler\n",
    "\n",
    "ss = StandardScaler()"
   ]
  },
  {
   "cell_type": "code",
   "execution_count": 62,
   "metadata": {
    "code_folding": [],
    "scrolled": false
   },
   "outputs": [
    {
     "data": {
      "application/vnd.jupyter.widget-view+json": {
       "model_id": "6d44243bef164b74afe8d1947807826e",
       "version_major": 2,
       "version_minor": 0
      },
      "text/html": [
       "<p>Failed to display Jupyter Widget of type <code>HBox</code>.</p>\n",
       "<p>\n",
       "  If you're reading this message in Jupyter Notebook or JupyterLab, it may mean\n",
       "  that the widgets JavaScript is still loading. If this message persists, it\n",
       "  likely means that the widgets JavaScript library is either not installed or\n",
       "  not enabled. See the <a href=\"https://ipywidgets.readthedocs.io/en/stable/user_install.html\">Jupyter\n",
       "  Widgets Documentation</a> for setup instructions.\n",
       "</p>\n",
       "<p>\n",
       "  If you're reading this message in another notebook frontend (for example, a static\n",
       "  rendering on GitHub or <a href=\"https://nbviewer.jupyter.org/\">NBViewer</a>),\n",
       "  it may mean that your frontend doesn't currently support widgets.\n",
       "</p>\n"
      ],
      "text/plain": [
       "HBox(children=(Dropdown(options=('DRRD 7', 'DRRD 8', 'DRRD 9', 'DRRD 10'), value='DRRD 7'), Dropdown(options=('narrow_smoothed', 'narrow_smoothed_viz', 'wide_smoothed'), value='narrow_smoothed'), IntSlider(value=2, max=10, min=2)))"
      ]
     },
     "metadata": {},
     "output_type": "display_data"
    },
    {
     "data": {
      "application/vnd.jupyter.widget-view+json": {
       "model_id": "5cd8b37158774a90b2f272ea0e2b1b46",
       "version_major": 2,
       "version_minor": 0
      },
      "text/html": [
       "<p>Failed to display Jupyter Widget of type <code>Output</code>.</p>\n",
       "<p>\n",
       "  If you're reading this message in Jupyter Notebook or JupyterLab, it may mean\n",
       "  that the widgets JavaScript is still loading. If this message persists, it\n",
       "  likely means that the widgets JavaScript library is either not installed or\n",
       "  not enabled. See the <a href=\"https://ipywidgets.readthedocs.io/en/stable/user_install.html\">Jupyter\n",
       "  Widgets Documentation</a> for setup instructions.\n",
       "</p>\n",
       "<p>\n",
       "  If you're reading this message in another notebook frontend (for example, a static\n",
       "  rendering on GitHub or <a href=\"https://nbviewer.jupyter.org/\">NBViewer</a>),\n",
       "  it may mean that your frontend doesn't currently support widgets.\n",
       "</p>\n"
      ],
      "text/plain": [
       "Output()"
      ]
     },
     "metadata": {},
     "output_type": "display_data"
    }
   ],
   "source": [
    "srat = wdg.Dropdown(options=['DRRD %d'%i for i in [7,8,9,10]])\n",
    "sdset = wdg.Dropdown(options=['narrow_smoothed','narrow_smoothed_viz', 'wide_smoothed'])\n",
    "snsplits = wdg.IntSlider(min=2,max=10)\n",
    "\n",
    "d = HBox([srat,sdset,snsplits])\n",
    "\n",
    "\n",
    "def choose_rat(label, n_splits, dset):\n",
    "    unselected = io.load(label, dset).reset_index()\n",
    "    minTrial=unselected.trial.min()\n",
    "    maxTrial=unselected.trial.max()\n",
    "    \n",
    "    # TODO change selection to inside, and add selection 'range'\n",
    "    \n",
    "    sh = GroupShuffleSplit(n_splits=n_splits, train_size=.8,test_size=.2)\n",
    "    \n",
    "    @interact_manual(logC = wdg.FloatSlider(min=-6, max=8,step=.25, continuous_update=False),\n",
    "              penalty = wdg.Dropdown(options=['l1','l2']), \n",
    "              trials = wdg.IntRangeSlider(min=minTrial, max=maxTrial, value=(minTrial, maxTrial), continuous_update=False),\n",
    "              duration = wdg.FloatRangeSlider(min=.5,max=10, value=(1.5,10), continuous_update=False),\n",
    "              intercept=True)\n",
    "    def choose_regularization(logC, penalty,intercept, trials, duration):\n",
    "        data = select(unselected, _min_duration=duration[0], _max_duration=duration[1], _mineq_trial=trials[0], _maxeq_trial=trials[1]).set_index(['trial', 'unit'])\n",
    "        Xab, y, trial = xyt(baseline_correct(to_feature_array(data, False), label))\n",
    "        X = ss.fit_transform(add_products(Xab))\n",
    "        \n",
    "        \n",
    "        clf = LogisticRegression(C=10**logC, penalty=penalty, fit_intercept=intercept)\n",
    "        allres = pd.DataFrame()\n",
    "        fig, ax = plt.subplots(2, 2, figsize=(20,12));\n",
    "        #disp =display(fig,display_id='fig')\n",
    "        res, weights_full = shuffle_val_predict(clf, X, y, trial, cv=sh, get_weights = True)\n",
    "        #allres = allres.append(res.groupby('true').mean().drop(['cv', 'group'],axis=1)).groupby('true').mean()\n",
    "        train = res.groupby('set').get_group('train')\n",
    "        test  = res.groupby('set').get_group('test')\n",
    "\n",
    "        train_proba = train.groupby('true').mean().drop(['cv', 'group','predictions', 'mean'],axis=1)\n",
    "        test_proba = test.groupby('true').mean().drop(['cv', 'group','predictions', 'mean'],axis=1)\n",
    "\n",
    "        # Plot train results\n",
    "\n",
    "        axt = plt.subplot(3,4,1);    sns.heatmap(train_proba, ax=axt, cbar=False); plt.title('Train probabilities')\n",
    "        axt = plt.subplot(3,4,2);    sns.heatmap(confusion_matrix(train.true, train.predictions), ax=axt, cbar=False); plt.title('Train predictions')\n",
    "\n",
    "        # Plot test results\n",
    "        axt = plt.subplot(3,4,5);    sns.heatmap(test_proba, ax=axt, cbar=False); plt.title('Test probabilities')\n",
    "        axt = plt.subplot(3,4,6);    sns.heatmap(confusion_matrix(test.true, test.predictions), ax=axt, cbar=False); plt.title('Test predictions')\n",
    "\n",
    "        c = sns.palettes.color_palette('viridis', X.shape[1])\n",
    "        \n",
    "        \n",
    "        weights = weights_full.applymap(abs).groupby('unit').mean().reset_index().value\n",
    "        w = (weights.sort_values()/weights.max()).values **2\n",
    "        rank = weights.argsort().values\n",
    "        \n",
    "        activity = pd.DataFrame(X[:,rank], index=y).reset_index()\n",
    "        mean = activity.groupby('index').mean()\n",
    "        std = activity.groupby('index').std()/np.sqrt(np.unique(trial).shape[0])\n",
    "        \n",
    "        \n",
    "        # Weights\n",
    "        axt = plt.subplot(3,4,3)\n",
    "        sns.barplot('unit','value', data=weights_full.abs(), ax=axt, palette=np.array(c)[np.argsort(rank)]); plt.title('(abs) Weight of each neuron')\n",
    "        #plt.ylim([0,.2])\n",
    "        \n",
    "        axt = plt.subplot(3,4,4)\n",
    "        for i, line in mean.transpose().iterrows():\n",
    "            plt.plot(line, alpha=w[i], linewidth=4*(i**1.1)/X.shape[1], color=c[i])\n",
    "            plt.fill_between(np.unique(y), line+std[i], line-std[i], alpha=w[i]/2, color=c[i])\n",
    "        plt.title('Mean activity of neurons')\n",
    "            \n",
    "        train_r = pearsonr(train.true, train['mean'])[0]\n",
    "        test_r = pearsonr(test.true, test['mean'])[0]\n",
    "        rs = pd.DataFrame([train_r, test_r],index=['Train','Test'], columns =['r']).reset_index()\n",
    "        \n",
    "        sns.barplot('r','index',data=rs,ax=plt.subplot(6,4,11)); plt.xlim([0,0.5]); plt.title('Score using expected value')\n",
    "        \n",
    "        train_r = pearsonr(train.true, train.predictions)[0]\n",
    "        test_r = pearsonr(test.true, test.predictions)[0]\n",
    "        rs = pd.DataFrame([train_r, test_r],index=['Train','Test'], columns =['r']).reset_index()\n",
    "        sns.barplot('r','index',data=rs,ax=plt.subplot(6,4,15)); plt.xlim([0,0.5]); plt.title('Score using maximum likelihood')\n",
    "        \n",
    "\n",
    "        plt.subplot(3,4,8)\n",
    "        mean_weight = (weights_full.groupby(['unit','time']).agg(np.mean)).value.reset_index().pivot(columns='time', index='unit').iloc[rank].reset_index(drop=True)\n",
    "        var_weight = (weights_full.groupby(['unit','time']).agg(np.std)/np.sqrt(weights_full.shuffle.unique().shape[0])).value.reset_index().pivot(columns='time', index='unit').iloc[rank].reset_index(drop=True)       \n",
    "        \n",
    "        for i in range(weights_full.unit.unique().shape[0]):\n",
    "            line = mean_weight.iloc[i,:].values\n",
    "            std = var_weight.iloc[i,:].values\n",
    "            plt.plot(np.unique(y),line, alpha=w[i], linewidth=4*(i**1.1)/X.shape[1], color=c[i])\n",
    "            plt.fill_between(np.unique(y), line+std, line-std, alpha=w[i]/2, color=c[i])\n",
    "        plt.title('Mean weight for each time')\n",
    "        \n",
    "        \n",
    "        # Trials being used\n",
    "        \n",
    "        def trial_matrix(df):\n",
    "            A = np.zeros((1200,2))\n",
    "            A[df.groupby('set').get_group('train').group.unique(),0] = -1\n",
    "            A[df.groupby('set').get_group('test').group.unique(),1] = 1\n",
    "            return A.transpose()\n",
    "    \n",
    "        trial_sets = pd.DataFrame(res.groupby(['cv']).apply(trial_matrix), columns=['Trials'])\n",
    "        each_set = pd.DataFrame.join(trial_sets.applymap(lambda x: (x==1).sum()), trial_sets.applymap(lambda x: (x==-1).sum()), lsuffix='_test', rsuffix='_train').reset_index().melt(id_vars='cv')\n",
    "        sns.barplot(x='value', y='variable', data=each_set, ax=plt.subplot(3,4,12))\n",
    "        \n",
    "        #sns.heatmap(set1, ax=plt.subplot(3,4,12))\n",
    "        # TODO jointplot mean activity vs weight at each time, with one point per shuffle\n",
    "        #sns.jointplot()\n",
    "        \n",
    "        plt.tight_layout()\n",
    "        \n",
    "out = interactive_output(choose_rat, dict(label=srat, n_splits = snsplits, dset = sdset))\n",
    "display(d, out)"
   ]
  },
  {
   "cell_type": "code",
   "execution_count": null,
   "metadata": {
    "collapsed": true
   },
   "outputs": [],
   "source": []
  }
 ],
 "metadata": {
  "hide_input": false,
  "kernelspec": {
   "display_name": "Python 3",
   "language": "python",
   "name": "python3"
  },
  "language_info": {
   "codemirror_mode": {
    "name": "ipython",
    "version": 3
   },
   "file_extension": ".py",
   "mimetype": "text/x-python",
   "name": "python",
   "nbconvert_exporter": "python",
   "pygments_lexer": "ipython3",
   "version": "3.6.2"
  },
  "toc": {
   "colors": {
    "hover_highlight": "#DAA520",
    "navigate_num": "#000000",
    "navigate_text": "#333333",
    "running_highlight": "#FF0000",
    "selected_highlight": "#FFD700",
    "sidebar_border": "#EEEEEE",
    "wrapper_background": "#FFFFFF"
   },
   "moveMenuLeft": true,
   "nav_menu": {
    "height": "30px",
    "width": "253px"
   },
   "navigate_menu": true,
   "number_sections": true,
   "sideBar": true,
   "threshold": 4,
   "toc_cell": true,
   "toc_position": {
    "height": "767px",
    "left": "0px",
    "right": "2348px",
    "top": "105px",
    "width": "212px"
   },
   "toc_section_display": "block",
   "toc_window_display": true,
   "widenNotebook": false
  }
 },
 "nbformat": 4,
 "nbformat_minor": 2
}
