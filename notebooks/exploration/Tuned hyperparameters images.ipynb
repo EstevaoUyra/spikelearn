{
 "cells": [
  {
   "cell_type": "code",
   "execution_count": 1,
   "metadata": {},
   "outputs": [
    {
     "name": "stdout",
     "output_type": "stream",
     "text": [
      "/disk1/home/svo6059/masters/spikelearn\n"
     ]
    }
   ],
   "source": [
    "cd ../.."
   ]
  },
  {
   "cell_type": "markdown",
   "metadata": {},
   "source": [
    "# Env "
   ]
  },
  {
   "cell_type": "markdown",
   "metadata": {},
   "source": [
    "## Imports "
   ]
  },
  {
   "cell_type": "code",
   "execution_count": 25,
   "metadata": {},
   "outputs": [],
   "source": [
    "from spikelearn.data import frankenstein, io, SHORTCUTS\n",
    "from pickle import load\n",
    "import pandas as pd"
   ]
  },
  {
   "cell_type": "code",
   "execution_count": 162,
   "metadata": {},
   "outputs": [],
   "source": [
    "from src.models.makeRegressorList import makeRegressorList\n",
    "from src.models.makeClassifierList import makeClassifierList"
   ]
  },
  {
   "cell_type": "code",
   "execution_count": 73,
   "metadata": {},
   "outputs": [],
   "source": [
    "from sklearn.pipeline import make_pipeline\n",
    "from sklearn.metrics.scorer import explained_variance_scorer\n",
    "from sklearn.preprocessing import RobustScaler"
   ]
  },
  {
   "cell_type": "markdown",
   "metadata": {},
   "source": [
    "## Functions "
   ]
  },
  {
   "cell_type": "markdown",
   "metadata": {},
   "source": [
    "# Data Loading "
   ]
  },
  {
   "cell_type": "code",
   "execution_count": 64,
   "metadata": {},
   "outputs": [],
   "source": [
    "# Merging rats\n",
    "DR = [io.load(label, 'wide_smoothed') for label in SHORTCUTS['groups']['DRRD']]\n",
    "EZ = [io.load(label, 'wide_smoothed') for label in SHORTCUTS['groups']['EZ']]\n",
    "\n",
    "sp_pfc = frankenstein(DR, _min_duration=1.5, is_selected=True, is_tired=False).reset_index()\n",
    "                                                    \n",
    "\n",
    "ez_pfc = frankenstein(EZ, _min_duration=1.5, _min_quality=0, area='PFC').reset_index().groupby('trial')\\\n",
    "                                                    .filter(lambda df: df.trial.values[0]%2==1).set_index(['trial','time'])\n",
    "\n",
    "ez_str = frankenstein(EZ, _min_duration=1.5, _min_quality=0, area='STR').reset_index().groupby('trial')\\\n",
    "                                                    .filter(lambda df: df.trial.values[0]%2==1).set_index(['trial','time'])\n",
    "merged_rats = [sp_pfc, ez_pfc, ez_str]"
   ]
  },
  {
   "cell_type": "code",
   "execution_count": 163,
   "metadata": {},
   "outputs": [],
   "source": [
    "regressors = makeRegressorList()\n",
    "classifiers = makeClassifierList()"
   ]
  },
  {
   "cell_type": "code",
   "execution_count": 80,
   "metadata": {},
   "outputs": [],
   "source": [
    "import numpy as np"
   ]
  },
  {
   "cell_type": "code",
   "execution_count": 165,
   "metadata": {},
   "outputs": [],
   "source": [
    "best_params_reg = load(open('data/results/regression_hyperopt/best_params_of_all.csv','rb'))\n",
    "best_params_clf = load(open('data/results/holdout_hyperopt/best_params_of_all.csv','rb'))\n",
    "def best_params(clf_name, rat, which='reg'):\n",
    "    if which=='reg':\n",
    "        D = best_params_reg\n",
    "    else:\n",
    "        D = best_params_clf\n",
    "    \n",
    "    if clf_name in D.reset_index().clf.values:\n",
    "        p =  dict(D.loc[clf_name, rat].dropna())\n",
    "        for ipar in ['n_estimators', 'n_neighbors', 'max_depth', 'hidden_layer_sizes', 'num_leaves']:\n",
    "            if ipar in p:\n",
    "                p[ipar] = int(p[ipar])\n",
    "        return p\n",
    "    else:\n",
    "        return None"
   ]
  },
  {
   "cell_type": "markdown",
   "metadata": {},
   "source": [
    "# Calculate performance on unseen data "
   ]
  },
  {
   "cell_type": "raw",
   "metadata": {},
   "source": [
    "for rat_label, df in zip(['sp_pfc', 'ez_pfc', 'ez_str'],\n",
    "                         [sp_pfc,   ez_pfc,   ez_str]):\n",
    "    \n",
    "    print('Working in rat', rat_label)\n",
    "    for regressor in regressors:\n",
    "        clf = regressor['func']\n",
    "        print(regressor['name'])"
   ]
  },
  {
   "cell_type": "markdown",
   "metadata": {},
   "source": [
    "## Regression "
   ]
  },
  {
   "cell_type": "code",
   "execution_count": 67,
   "metadata": {},
   "outputs": [],
   "source": [
    "df_train = df.groupby('trial').filter(lambda df: df.trial.values[0]%2==1).set_index(['trial','time'])\n",
    "df_test = df.groupby('trial').filter(lambda df: df.trial.values[0]%2==0).set_index(['trial','time'])"
   ]
  },
  {
   "cell_type": "code",
   "execution_count": 98,
   "metadata": {
    "scrolled": false
   },
   "outputs": [
    {
     "name": "stdout",
     "output_type": "stream",
     "text": [
      "knn\n",
      "linSVM\n"
     ]
    },
    {
     "name": "stderr",
     "output_type": "stream",
     "text": [
      "/disk1/home/svo6059/anaconda3/envs/spk/lib/python3.6/site-packages/sklearn/svm/base.py:922: ConvergenceWarning: Liblinear failed to converge, increase the number of iterations.\n",
      "  \"the number of iterations.\", ConvergenceWarning)\n",
      "/disk1/home/svo6059/anaconda3/envs/spk/lib/python3.6/site-packages/sklearn/svm/base.py:922: ConvergenceWarning: Liblinear failed to converge, increase the number of iterations.\n",
      "  \"the number of iterations.\", ConvergenceWarning)\n"
     ]
    },
    {
     "name": "stdout",
     "output_type": "stream",
     "text": [
      "rbfSVM\n"
     ]
    },
    {
     "name": "stderr",
     "output_type": "stream",
     "text": [
      "/disk1/home/svo6059/anaconda3/envs/spk/lib/python3.6/site-packages/sklearn/svm/base.py:196: FutureWarning: The default value of gamma will change from 'auto' to 'scale' in version 0.22 to account better for unscaled features. Set gamma explicitly to 'auto' or 'scale' to avoid this warning.\n",
      "  \"avoid this warning.\", FutureWarning)\n"
     ]
    },
    {
     "name": "stdout",
     "output_type": "stream",
     "text": [
      "ElasticNet\n"
     ]
    },
    {
     "name": "stderr",
     "output_type": "stream",
     "text": [
      "/disk1/home/svo6059/anaconda3/envs/spk/lib/python3.6/site-packages/sklearn/linear_model/coordinate_descent.py:491: ConvergenceWarning: Objective did not converge. You might want to increase the number of iterations. Fitting data with very small alpha may cause precision problems.\n",
      "  ConvergenceWarning)\n"
     ]
    },
    {
     "name": "stdout",
     "output_type": "stream",
     "text": [
      "Decision_tree\n",
      "Random_forest\n"
     ]
    },
    {
     "name": "stderr",
     "output_type": "stream",
     "text": [
      "/disk1/home/svo6059/anaconda3/envs/spk/lib/python3.6/site-packages/sklearn/ensemble/forest.py:248: FutureWarning: The default value of n_estimators will change from 10 in version 0.20 to 100 in 0.22.\n",
      "  \"10 in version 0.20 to 100 in 0.22.\", FutureWarning)\n"
     ]
    },
    {
     "name": "stdout",
     "output_type": "stream",
     "text": [
      "Neural_network\n"
     ]
    },
    {
     "name": "stderr",
     "output_type": "stream",
     "text": [
      "/disk1/home/svo6059/anaconda3/envs/spk/lib/python3.6/site-packages/sklearn/neural_network/multilayer_perceptron.py:562: ConvergenceWarning: Stochastic Optimizer: Maximum iterations (200) reached and the optimization hasn't converged yet.\n",
      "  % self.max_iter, ConvergenceWarning)\n"
     ]
    },
    {
     "name": "stdout",
     "output_type": "stream",
     "text": [
      "XGboost\n",
      "LightGBM\n",
      "CatBoost\n",
      "BayesianRidge\n",
      "ARD\n"
     ]
    }
   ],
   "source": [
    "rat_label, df = 'sp_pfc', sp_pfc\n",
    "results = {}\n",
    "for regressor in regressors:\n",
    "    clf = regressor['func']\n",
    "    print(regressor['name'])\n",
    "    \n",
    "    # Tuned\n",
    "    pars = best_params(regressor['name'], rat_label)\n",
    "    if pars is not None:\n",
    "        clf = make_pipeline(RobustScaler(), regressor['func'](**pars))\n",
    "        clf.fit(df_train.values, df_train.reset_index().time)\n",
    "        res = explained_variance_scorer(clf, df_test.values, df_test.reset_index().time)\n",
    "        results[('tuned', regressor['name'])] = res\n",
    "    \n",
    "    # Untuned\n",
    "    clf = make_pipeline(RobustScaler(), regressor['func']())\n",
    "    clf.fit(df_train.values, df_train.reset_index().time)\n",
    "    res = explained_variance_scorer(clf, df_test.values, df_test.reset_index().time)\n",
    "    results[('untuned', regressor['name'])] = res"
   ]
  },
  {
   "cell_type": "code",
   "execution_count": 122,
   "metadata": {},
   "outputs": [],
   "source": [
    "R = pd.Series(results).T.reset_index()\n",
    "R.columns = ['is_tuned', 'model', 'explained variance']"
   ]
  },
  {
   "cell_type": "code",
   "execution_count": 124,
   "metadata": {},
   "outputs": [],
   "source": [
    "import seaborn as sns\n",
    "import matplotlib.pyplot as plt\n",
    "%matplotlib inline"
   ]
  },
  {
   "cell_type": "code",
   "execution_count": 161,
   "metadata": {
    "scrolled": false
   },
   "outputs": [
    {
     "data": {
      "image/png": "[encoded data removed]",
      "text/plain": [
       "<Figure size 900x600 with 1 Axes>"
      ]
     },
     "metadata": {},
     "output_type": "display_data"
    }
   ],
   "source": [
    "plt.figure(dpi=150)\n",
    "order = R.groupby('model')['explained variance'].mean().sort_values().index.values\n",
    "sns.barplot('explained variance', 'model',  'is_tuned', R, order=order)\n",
    "plt.xlim(-.1,.4)\n",
    "plt.legend(title=False, frameon=False)\n",
    "sns.despine(left=True)\n",
    "plt.tick_params(\n",
    "    axis='y',          # changes apply to the x-axis\n",
    "    which='both',      # both major and minor ticks are affected\n",
    "    left=False)\n",
    "\n",
    "# plt.grid(axis='x')"
   ]
  },
  {
   "cell_type": "markdown",
   "metadata": {},
   "source": [
    "## Classification "
   ]
  },
  {
   "cell_type": "code",
   "execution_count": 67,
   "metadata": {},
   "outputs": [],
   "source": [
    "df_train = df.groupby('trial').filter(lambda df: df.trial.values[0]%2==1).set_index(['trial','time'])\n",
    "df_test = df.groupby('trial').filter(lambda df: df.trial.values[0]%2==0).set_index(['trial','time'])"
   ]
  },
  {
   "cell_type": "code",
   "execution_count": 174,
   "metadata": {},
   "outputs": [],
   "source": [
    "from sklearn.metrics import make_scorer\n",
    "from scipy.stats import pearsonr"
   ]
  },
  {
   "cell_type": "code",
   "execution_count": 175,
   "metadata": {},
   "outputs": [
    {
     "data": {
      "text/plain": [
       "make_scorer(pearsonr)"
      ]
     },
     "execution_count": 175,
     "metadata": {},
     "output_type": "execute_result"
    }
   ],
   "source": []
  },
  {
   "cell_type": "code",
   "execution_count": 182,
   "metadata": {
    "scrolled": false
   },
   "outputs": [
    {
     "name": "stdout",
     "output_type": "stream",
     "text": [
      "knn\n",
      "linSVM\n"
     ]
    },
    {
     "name": "stderr",
     "output_type": "stream",
     "text": [
      "/disk1/home/svo6059/anaconda3/envs/spk/lib/python3.6/site-packages/sklearn/svm/base.py:922: ConvergenceWarning: Liblinear failed to converge, increase the number of iterations.\n",
      "  \"the number of iterations.\", ConvergenceWarning)\n",
      "/disk1/home/svo6059/anaconda3/envs/spk/lib/python3.6/site-packages/sklearn/svm/base.py:922: ConvergenceWarning: Liblinear failed to converge, increase the number of iterations.\n",
      "  \"the number of iterations.\", ConvergenceWarning)\n"
     ]
    },
    {
     "name": "stdout",
     "output_type": "stream",
     "text": [
      "rbfSVM\n"
     ]
    },
    {
     "name": "stderr",
     "output_type": "stream",
     "text": [
      "/disk1/home/svo6059/anaconda3/envs/spk/lib/python3.6/site-packages/sklearn/svm/base.py:196: FutureWarning: The default value of gamma will change from 'auto' to 'scale' in version 0.22 to account better for unscaled features. Set gamma explicitly to 'auto' or 'scale' to avoid this warning.\n",
      "  \"avoid this warning.\", FutureWarning)\n"
     ]
    },
    {
     "name": "stdout",
     "output_type": "stream",
     "text": [
      "Decision_tree\n",
      "Random_forest\n"
     ]
    },
    {
     "name": "stderr",
     "output_type": "stream",
     "text": [
      "/disk1/home/svo6059/anaconda3/envs/spk/lib/python3.6/site-packages/sklearn/ensemble/forest.py:248: FutureWarning: The default value of n_estimators will change from 10 in version 0.20 to 100 in 0.22.\n",
      "  \"10 in version 0.20 to 100 in 0.22.\", FutureWarning)\n"
     ]
    },
    {
     "name": "stdout",
     "output_type": "stream",
     "text": [
      "Neural_network\n",
      "Naive_bayes\n",
      "QDA\n",
      "LDA\n",
      "Logistic_Regression\n"
     ]
    },
    {
     "name": "stderr",
     "output_type": "stream",
     "text": [
      "/disk1/home/svo6059/anaconda3/envs/spk/lib/python3.6/site-packages/sklearn/linear_model/logistic.py:432: FutureWarning: Default solver will be changed to 'lbfgs' in 0.22. Specify a solver to silence this warning.\n",
      "  FutureWarning)\n",
      "/disk1/home/svo6059/anaconda3/envs/spk/lib/python3.6/site-packages/sklearn/linear_model/logistic.py:459: FutureWarning: Default multi_class will be changed to 'auto' in 0.22. Specify the multi_class option to silence this warning.\n",
      "  \"this warning.\", FutureWarning)\n",
      "/disk1/home/svo6059/anaconda3/envs/spk/lib/python3.6/site-packages/sklearn/linear_model/logistic.py:432: FutureWarning: Default solver will be changed to 'lbfgs' in 0.22. Specify a solver to silence this warning.\n",
      "  FutureWarning)\n",
      "/disk1/home/svo6059/anaconda3/envs/spk/lib/python3.6/site-packages/sklearn/linear_model/logistic.py:459: FutureWarning: Default multi_class will be changed to 'auto' in 0.22. Specify the multi_class option to silence this warning.\n",
      "  \"this warning.\", FutureWarning)\n",
      "/disk1/home/svo6059/anaconda3/envs/spk/lib/python3.6/site-packages/sklearn/svm/base.py:922: ConvergenceWarning: Liblinear failed to converge, increase the number of iterations.\n",
      "  \"the number of iterations.\", ConvergenceWarning)\n"
     ]
    },
    {
     "name": "stdout",
     "output_type": "stream",
     "text": [
      "XGboost\n",
      "LightGBM\n"
     ]
    }
   ],
   "source": [
    "rat_label, df = 'sp_pfc', sp_pfc\n",
    "results = {}\n",
    "for classifier in classifiers:\n",
    "    clf = classifier['func']\n",
    "    print(classifier['name'])\n",
    "    \n",
    "    # Tuned\n",
    "    pars = best_params(classifier['name'], rat_label, 'clf')\n",
    "    if pars is not None:\n",
    "        clf = make_pipeline(RobustScaler(), classifier['func'](**pars))\n",
    "        clf.fit(df_train.values, df_train.reset_index().time)\n",
    "        res = make_scorer(pearsonr)(clf, df_test.values, df_test.reset_index().time)[0]\n",
    "        results[('tuned', classifier['name'])] = res\n",
    "    \n",
    "    # Untuned\n",
    "    clf = make_pipeline(RobustScaler(), classifier['func']())\n",
    "    clf.fit(df_train.values, df_train.reset_index().time)\n",
    "    res = make_scorer(pearsonr)(clf, df_test.values, df_test.reset_index().time)[0]\n",
    "    results[('untuned', classifier['name'])] = res"
   ]
  },
  {
   "cell_type": "code",
   "execution_count": 183,
   "metadata": {},
   "outputs": [],
   "source": [
    "R = pd.Series(results).T.reset_index()\n",
    "R.columns = ['is_tuned', 'model', \"pearson's r\"]"
   ]
  },
  {
   "cell_type": "code",
   "execution_count": 184,
   "metadata": {},
   "outputs": [],
   "source": [
    "import seaborn as sns\n",
    "import matplotlib.pyplot as plt\n",
    "%matplotlib inline"
   ]
  },
  {
   "cell_type": "code",
   "execution_count": 190,
   "metadata": {},
   "outputs": [
    {
     "data": {
      "image/png": "[encoded data removed]",
      "text/plain": [
       "<Figure size 900x600 with 1 Axes>"
      ]
     },
     "metadata": {},
     "output_type": "display_data"
    }
   ],
   "source": [
    "plt.figure(dpi=150)\n",
    "order = R.groupby('model')[\"pearson's r\"].mean().sort_values().index.values\n",
    "sns.barplot(\"pearson's r\", 'model',  'is_tuned', R, order=order)\n",
    "plt.xlim(0,.52)\n",
    "plt.legend(title=False, frameon=False, loc='upper right')\n",
    "sns.despine(left=True)\n",
    "plt.tick_params(\n",
    "    axis='y',          # changes apply to the x-axis\n",
    "    which='both',      # both major and minor ticks are affected\n",
    "    left=False)"
   ]
  },
  {
   "cell_type": "code",
   "execution_count": null,
   "metadata": {},
   "outputs": [],
   "source": []
  }
 ],
 "metadata": {
  "hide_input": false,
  "kernelspec": {
   "display_name": "Python [conda env:spk]",
   "language": "python",
   "name": "conda-env-spk-py"
  },
  "language_info": {
   "codemirror_mode": {
    "name": "ipython",
    "version": 3
   },
   "file_extension": ".py",
   "mimetype": "text/x-python",
   "name": "python",
   "nbconvert_exporter": "python",
   "pygments_lexer": "ipython3",
   "version": "3.6.5"
  },
  "toc": {
   "base_numbering": 1,
   "nav_menu": {},
   "number_sections": true,
   "sideBar": true,
   "skip_h1_title": false,
   "title_cell": "Table of Contents",
   "title_sidebar": "Contents",
   "toc_cell": false,
   "toc_position": {},
   "toc_section_display": true,
   "toc_window_display": false
  }
 },
 "nbformat": 4,
 "nbformat_minor": 2
}
