{
 "cells": [
  {
   "cell_type": "markdown",
   "metadata": {},
   "source": [
    "Exploration of activity changes\n",
    "\n",
    "This notebook explores the following features of neural activity:\n",
    "\n",
    "- Decoding\n",
    "    - Using\n",
    "        - Logistic Regression\n",
    "        - Random forest\n",
    "        - XGBoost\n",
    "    - Model characteristics\n",
    "        - Confusion matrix\n",
    "        - \"Distance\"/\"predict_proba\" matrices\n",
    "        - Feature importances\n",
    "    - Comparing\n",
    "        - Before/after changepoint\n",
    "        - Autoshape/DRRD\n",
    "        \n",
    "\n",
    "- Differences\n",
    "    - Comparing\n",
    "        - Before/after changepoint\n",
    "        - Autoshape/DRRD\n",
    "    - Measures \n",
    "        - Distances\n",
    "        - Similarities\n",
    "        - Synchronization\n",
    "        - Via spikeutils"
   ]
  },
  {
   "cell_type": "markdown",
   "metadata": {
    "toc": "true"
   },
   "source": [
    "# Table of Contents\n",
    " <p><div class=\"lev1 toc-item\"><a href=\"#Imports\" data-toc-modified-id=\"Imports-1\"><span class=\"toc-item-num\">1&nbsp;&nbsp;</span>Imports</a></div><div class=\"lev1 toc-item\"><a href=\"#Feature-importances\" data-toc-modified-id=\"Feature-importances-2\"><span class=\"toc-item-num\">2&nbsp;&nbsp;</span>Feature importances</a></div><div class=\"lev2 toc-item\"><a href=\"#XGBoost\" data-toc-modified-id=\"XGBoost-21\"><span class=\"toc-item-num\">2.1&nbsp;&nbsp;</span>XGBoost</a></div><div class=\"lev2 toc-item\"><a href=\"#ElasticNet\" data-toc-modified-id=\"ElasticNet-22\"><span class=\"toc-item-num\">2.2&nbsp;&nbsp;</span>ElasticNet</a></div><div class=\"lev2 toc-item\"><a href=\"#rbfSVM\" data-toc-modified-id=\"rbfSVM-23\"><span class=\"toc-item-num\">2.3&nbsp;&nbsp;</span>rbfSVM</a></div><div class=\"lev2 toc-item\"><a href=\"#Logistic-Regression\" data-toc-modified-id=\"Logistic-Regression-24\"><span class=\"toc-item-num\">2.4&nbsp;&nbsp;</span>Logistic Regression</a></div>"
   ]
  },
  {
   "cell_type": "markdown",
   "metadata": {},
   "source": [
    "# Imports"
   ]
  },
  {
   "cell_type": "code",
   "execution_count": 158,
   "metadata": {
    "collapsed": true
   },
   "outputs": [],
   "source": [
    "def encode_by_rate_quantile(X, q):\n",
    "    le, oh = LabelEncoder(), OneHotEncoder()\n",
    "    \n",
    "    df = pd.DataFrame(X).apply(lambda x: pd.qcut(x, q, duplicates='drop'))\n",
    "    df = df.apply(lambda x: le.fit_transform(x))\n",
    "    sp = pd.DataFrame(index=df.index)\n",
    "    \n",
    "    for i in df.columns:\n",
    "        sp = sp.join(pd.DataFrame(oh.fit_transform(df[i].values.reshape(-1,1)).todense()), rsuffix='_unit_%d'%i, lsuffix='_unit_%d'%i)\n",
    "    \n",
    "    return sp"
   ]
  },
  {
   "cell_type": "code",
   "execution_count": 423,
   "metadata": {
    "collapsed": true
   },
   "outputs": [],
   "source": [
    "df = encode_by_rate_quantile(X, 10)"
   ]
  },
  {
   "cell_type": "code",
   "execution_count": 14,
   "metadata": {
    "collapsed": true
   },
   "outputs": [],
   "source": [
    "import os\n",
    "os.chdir('../../')\n",
    "\n",
    "import pandas as pd\n",
    "import numpy as np"
   ]
  },
  {
   "cell_type": "code",
   "execution_count": 15,
   "metadata": {
    "collapsed": true
   },
   "outputs": [],
   "source": [
    "from sklearn.model_selection import GroupShuffleSplit, cross_val_predict, GroupKFold\n",
    "from sklearn.base import clone\n",
    "from sklearn.metrics import confusion_matrix\n",
    "from sklearn.preprocessing import LabelEncoder, OneHotEncoder"
   ]
  },
  {
   "cell_type": "code",
   "execution_count": 16,
   "metadata": {
    "collapsed": true
   },
   "outputs": [],
   "source": [
    "from spikelearn.data import io\n",
    "from spikelearn.data.selection import select, to_feature_array"
   ]
  },
  {
   "cell_type": "code",
   "execution_count": 17,
   "metadata": {
    "collapsed": true
   },
   "outputs": [],
   "source": [
    "import matplotlib.pyplot as plt\n",
    "import seaborn as sns\n",
    "%matplotlib inline"
   ]
  },
  {
   "cell_type": "code",
   "execution_count": 343,
   "metadata": {},
   "outputs": [],
   "source": [
    "def shuffle_val_predict(clf, X, y, group=None, cv=GroupKFold(5), get_weights = True):\n",
    "    def get_predictions_or_proba(clf, X, mode):\n",
    "        \"\"\"\n",
    "        Local helper function to ease the switching between predict_proba and predict\n",
    "        \"\"\"\n",
    "        if mode == 'predict':\n",
    "            return pd.DataFrame(clf.predict(X), columns=['predictions'])\n",
    "        elif mode in ['proba','probability']:\n",
    "            try:\n",
    "                return pd.DataFrame(clf.predict_proba(X), columns=np.unique(y))\n",
    "            except:\n",
    "                return pd.DataFrame(clf.decision_function(X), columns=np.unique(y))\n",
    "\n",
    "    weights = pd.DataFrame()\n",
    "    results = pd.DataFrame()\n",
    "    n_y = len(np.unique(y))\n",
    "    for i, (train_idx, test_idx) in enumerate(cv.split(X, y, group)):\n",
    "        clf_local = clone(clf)\n",
    "        clf_local.fit(X[train_idx,:],y[train_idx])\n",
    "\n",
    "        for train_or_test in ['train', 'test']:\n",
    "            idx = test_idx if train_or_test is 'test' else train_idx\n",
    "            predictions = get_predictions_or_proba(clf_local, X[idx], 'proba')\n",
    "            predictions['cv'] = i\n",
    "            predictions['group'] = group[idx]\n",
    "            predictions['true'] = y[idx]\n",
    "            predictions['predictions'] = predictions.apply(lambda x: x.index[np.argmax(x.values[:n_y])], axis=1)\n",
    "            predictions['mean'] = predictions.apply(lambda x: np.sum(predictions.columns[:10].values*x.values[:10]), axis=1)\n",
    "            predictions['set'] = train_or_test\n",
    "            results = results.append(predictions)\n",
    "\n",
    "        if get_weights:\n",
    "            w = pd.DataFrame(clf_local.coef_, columns = np.arange(X.shape[1]), index = pd.Index(np.unique(y).astype(int), name='time'))\n",
    "            w = w.reset_index().melt(var_name='unit', id_vars=['time'])\n",
    "            w['shuffle'] = i\n",
    "            weights=weights.append(w)\n",
    "    if get_weights:\n",
    "        return results, weights\n",
    "    return results"
   ]
  },
  {
   "cell_type": "code",
   "execution_count": 340,
   "metadata": {},
   "outputs": [
    {
     "data": {
      "text/plain": [
       "array([200.0, 300.0, 400.0, 500.0, 600.0, 700.0, 800.0, 900.0, 1000.0,\n",
       "       1100.0], dtype=object)"
      ]
     },
     "execution_count": 340,
     "metadata": {},
     "output_type": "execute_result"
    }
   ],
   "source": [
    " res.columns[:10].values"
   ]
  },
  {
   "cell_type": "code",
   "execution_count": 356,
   "metadata": {},
   "outputs": [],
   "source": [
    "res['mean'] = res.apply(lambda x: np.sum(res.columns[:10].values*x.values[:10]), axis=1)"
   ]
  },
  {
   "cell_type": "code",
   "execution_count": 333,
   "metadata": {},
   "outputs": [
    {
     "ename": "NameError",
     "evalue": "name 'predictions' is not defined",
     "output_type": "error",
     "traceback": [
      "\u001b[0;31m---------------------------------------------------------------------------\u001b[0m",
      "\u001b[0;31mNameError\u001b[0m                                 Traceback (most recent call last)",
      "\u001b[0;32m<ipython-input-333-c18ea0894bd4>\u001b[0m in \u001b[0;36m<module>\u001b[0;34m()\u001b[0m\n\u001b[0;32m----> 1\u001b[0;31m \u001b[0mpredictions\u001b[0m\u001b[0;34m[\u001b[0m\u001b[0;34m'predictions'\u001b[0m\u001b[0;34m]\u001b[0m \u001b[0;34m=\u001b[0m \u001b[0mpredictions\u001b[0m\u001b[0;34m.\u001b[0m\u001b[0mapply\u001b[0m\u001b[0;34m(\u001b[0m\u001b[0;32mlambda\u001b[0m \u001b[0mx\u001b[0m\u001b[0;34m:\u001b[0m \u001b[0mx\u001b[0m\u001b[0;34m.\u001b[0m\u001b[0mindex\u001b[0m\u001b[0;34m[\u001b[0m\u001b[0mnp\u001b[0m\u001b[0;34m.\u001b[0m\u001b[0margmax\u001b[0m\u001b[0;34m(\u001b[0m\u001b[0mx\u001b[0m\u001b[0;34m.\u001b[0m\u001b[0mvalues\u001b[0m\u001b[0;34m[\u001b[0m\u001b[0;34m:\u001b[0m\u001b[0mn_y\u001b[0m\u001b[0;34m]\u001b[0m\u001b[0;34m)\u001b[0m\u001b[0;34m]\u001b[0m\u001b[0;34m,\u001b[0m \u001b[0maxis\u001b[0m\u001b[0;34m=\u001b[0m\u001b[0;36m1\u001b[0m\u001b[0;34m)\u001b[0m\u001b[0;34m\u001b[0m\u001b[0m\n\u001b[0m",
      "\u001b[0;31mNameError\u001b[0m: name 'predictions' is not defined"
     ]
    }
   ],
   "source": [
    "predictions['predictions'] = predictions.apply(lambda x: x.index[np.argmax(x.values[:n_y])], axis=1)"
   ]
  },
  {
   "cell_type": "code",
   "execution_count": null,
   "metadata": {
    "collapsed": true
   },
   "outputs": [],
   "source": [
    "res"
   ]
  },
  {
   "cell_type": "code",
   "execution_count": 28,
   "metadata": {
    "collapsed": true
   },
   "outputs": [],
   "source": [
    "data = io.load('DRRD 8', 'narrow_smoothed')\n",
    "\n",
    "data = select(data, _min_duration=1.5)\n",
    "X,y, trial = to_feature_array(data)\n",
    "\n",
    "X = ss.fit_transform(X)"
   ]
  },
  {
   "cell_type": "code",
   "execution_count": 68,
   "metadata": {},
   "outputs": [],
   "source": [
    "res, weights = shuffle_val_predict(LogisticRegression(), X, y, trial, cv=sh, get_weights = True)"
   ]
  },
  {
   "cell_type": "markdown",
   "metadata": {
    "collapsed": true
   },
   "source": [
    "# Feature importances"
   ]
  },
  {
   "cell_type": "markdown",
   "metadata": {},
   "source": [
    "## XGBoost"
   ]
  },
  {
   "cell_type": "code",
   "execution_count": 9,
   "metadata": {
    "collapsed": true
   },
   "outputs": [],
   "source": [
    "from xgboost import XGBClassifier"
   ]
  },
  {
   "cell_type": "code",
   "execution_count": 12,
   "metadata": {
    "collapsed": true
   },
   "outputs": [],
   "source": [
    "def xgb(label, method = 'proba'):\n",
    "#     params = io.load(rat, 'XGboost')\n",
    "#     params = dict(zip(params.columns, params.values.reshape(-1)))\n",
    "#     params['max_depth'] = int(params['max_depth'])\n",
    "#     params['n_estimators'] = int(params['n_estimators'])\n",
    "#     params['min_child_weight'] = int(params['min_child_weight'])\n",
    "    clf = XGBClassifier(n_estimators=12, subsample=.5, gamma=0.1, max_depth=16)\n",
    "    \n",
    "    s = io.load(label, 'wide_smoothed')\n",
    "    X,y, trial = to_feature_array(select(s.reset_index(), _min_duration=1.5, _min_trial=100, is_tired=False).set_index(['trial','unit']), subset='cropped')\n",
    "    \n",
    "    res = shuffle_val_predict(clf, X, y, trial, GroupShuffleSplit(30, 10, 80),method)\n",
    "    clf = clf.fit(X, y)\n",
    "    \n",
    "    return res, clf"
   ]
  },
  {
   "cell_type": "code",
   "execution_count": 61,
   "metadata": {},
   "outputs": [
    {
     "data": {
      "image/png": "[encoded data removed]",
      "text/plain": [
       "<matplotlib.figure.Figure at 0x7ff0be182630>"
      ]
     },
     "metadata": {},
     "output_type": "display_data"
    }
   ],
   "source": [
    "plt.figure(figsize=(12, 20))\n",
    "for i, rat in enumerate(['DRRD %d'%n for n in [7,8,9,10]]):\n",
    "    res, clf = xgb(rat)\n",
    "    \n",
    "    plt.subplot(4, 2, 2*i+1)\n",
    "    sns.heatmap(res.drop(['cv','group'],axis=1).groupby('true').mean()); plt.title(rat)\n",
    "    plt.subplot(4, 2, 2*i+2)\n",
    "    plt.bar(np.arange(clf.feature_importances_.shape[0]),clf.feature_importances_)"
   ]
  },
  {
   "cell_type": "code",
   "execution_count": 17,
   "metadata": {
    "collapsed": true
   },
   "outputs": [],
   "source": [
    "res, clf = xgb('DRRD 8', 'predict')"
   ]
  },
  {
   "cell_type": "code",
   "execution_count": 16,
   "metadata": {},
   "outputs": [
    {
     "data": {
      "text/plain": [
       "<matplotlib.axes._subplots.AxesSubplot at 0x7f949f5aee48>"
      ]
     },
     "execution_count": 16,
     "metadata": {},
     "output_type": "execute_result"
    },
    {
     "data": {
      "image/png": "[encoded data removed]",
      "text/plain": [
       "<matplotlib.figure.Figure at 0x7f949f62c048>"
      ]
     },
     "metadata": {},
     "output_type": "display_data"
    }
   ],
   "source": [
    "sns.heatmap(res.drop(['cv','group'],axis=1).groupby('true').mean())"
   ]
  },
  {
   "cell_type": "markdown",
   "metadata": {},
   "source": [
    "---"
   ]
  },
  {
   "cell_type": "code",
   "execution_count": 58,
   "metadata": {
    "collapsed": true
   },
   "outputs": [],
   "source": [
    "def normalized_distance(mean, observations, max_qdist):\n",
    "    print(mean, max_qdist)\n",
    "    norm_dist = np.sum((observations-mean)**2)/max_qdist\n",
    "    return 1 - norm_dist/len(observations)\n",
    "\n",
    "def multiclass_pessimistic_score(y_true, y_pred, composite='min',\n",
    "                        one_class_score_func=normalized_distance, labels=None):\n",
    "    if labels is None:\n",
    "        labels = np.unique(y_true)\n",
    "\n",
    "    each_score = np.array([one_class_score_func(y, y_pred[y_true==y], max(y-min(labels), max(labels)-y)**2 ) for y in labels])\n",
    "    \n",
    "    if composite == 'geometric':\n",
    "        return np.prod(each_score)**(1/len(each_score))\n",
    "    elif composite == 'harmonic':\n",
    "        eps = 1e-6\n",
    "        return len(each_score)/(np.sum(1/(each_score+eps)))\n",
    "    elif composite == 'min':\n",
    "        return min(each_score)\n"
   ]
  },
  {
   "cell_type": "markdown",
   "metadata": {},
   "source": [
    "## ElasticNet"
   ]
  },
  {
   "cell_type": "code",
   "execution_count": 59,
   "metadata": {
    "collapsed": true
   },
   "outputs": [],
   "source": [
    "from sklearn.linear_model import SGDClassifier"
   ]
  },
  {
   "cell_type": "code",
   "execution_count": 81,
   "metadata": {
    "collapsed": true
   },
   "outputs": [],
   "source": [
    "params = io.load('DRRD 8', 'elasticnet_SGD')\n",
    "params= dict(zip(params.columns, params.values.reshape(-1)))"
   ]
  },
  {
   "cell_type": "code",
   "execution_count": 105,
   "metadata": {
    "collapsed": true
   },
   "outputs": [],
   "source": [
    "clf = SGDClassifier(loss='log', penalty='elasticnet',\n",
    "                                    tol=1e-5, **params)"
   ]
  },
  {
   "cell_type": "code",
   "execution_count": 64,
   "metadata": {
    "collapsed": true
   },
   "outputs": [],
   "source": [
    "data = io.load('DRRD 8', 'wide_smoothed')"
   ]
  },
  {
   "cell_type": "code",
   "execution_count": 123,
   "metadata": {
    "collapsed": true
   },
   "outputs": [],
   "source": [
    "X,y,trial = to_feature_array(select(data, _min_duration=1.500))\n",
    "y = y.astype(int)"
   ]
  },
  {
   "cell_type": "code",
   "execution_count": 107,
   "metadata": {
    "collapsed": true
   },
   "outputs": [],
   "source": [
    "l = LabelEncoder()\n",
    "t = l.fit_transform(results.true)\n",
    "p = l.transform(results.predictions)"
   ]
  },
  {
   "cell_type": "code",
   "execution_count": 108,
   "metadata": {},
   "outputs": [
    {
     "data": {
      "text/plain": [
       "<matplotlib.axes._subplots.AxesSubplot at 0x7f949bdb9f98>"
      ]
     },
     "execution_count": 108,
     "metadata": {},
     "output_type": "execute_result"
    },
    {
     "data": {
      "image/png": "[encoded data removed]",
      "text/plain": [
       "<matplotlib.figure.Figure at 0x7f949bdb9828>"
      ]
     },
     "metadata": {},
     "output_type": "display_data"
    }
   ],
   "source": [
    "sns.heatmap(confusion_matrix(t, p))"
   ]
  },
  {
   "cell_type": "markdown",
   "metadata": {},
   "source": [
    "## rbfSVM"
   ]
  },
  {
   "cell_type": "code",
   "execution_count": 148,
   "metadata": {
    "collapsed": true
   },
   "outputs": [],
   "source": [
    "from sklearn.svm import SVC"
   ]
  },
  {
   "cell_type": "code",
   "execution_count": 145,
   "metadata": {
    "collapsed": true
   },
   "outputs": [],
   "source": [
    "params = io.load('DRRD 7', 'rbfSVM')\n",
    "params= dict(zip(params.columns, params.values.reshape(-1)))"
   ]
  },
  {
   "cell_type": "code",
   "execution_count": 149,
   "metadata": {
    "collapsed": true
   },
   "outputs": [],
   "source": [
    "clf = SVC(**params)"
   ]
  },
  {
   "cell_type": "code",
   "execution_count": 150,
   "metadata": {
    "collapsed": true
   },
   "outputs": [],
   "source": [
    "def get_predictions_or_proba(clf, X, mode):\n",
    "    \"\"\"\n",
    "    Local helper function to ease the switching between predict_proba and predict\n",
    "    \"\"\"\n",
    "    if mode == 'predict':\n",
    "        return clf.predict(X)\n",
    "    elif mode in ['proba','probability']:\n",
    "        try:\n",
    "            return clf.predict_proba(X)\n",
    "        except:\n",
    "            return clf.decision_function(X)\n",
    "n_shuffles=10\n",
    "train_size=.8\n",
    "test_size=.2\n",
    "\n",
    "results = pd.DataFrame(columns = ['trial', 'shuffle', 'predictions','true'])\n",
    "sh = GroupShuffleSplit(n_splits=n_shuffles, train_size=train_size,test_size=test_size)\n",
    "\n",
    "for i, (train_idx, test_idx) in enumerate(sh.split(X,y,trial)):\n",
    "    clf_local = clone(clf)\n",
    "    clf_local.fit(X[train_idx,:],y[train_idx])\n",
    "\n",
    "    predictions = get_predictions_or_proba(clf_local, X[test_idx], 'predict' )\n",
    "    true = y[test_idx]\n",
    "    results = results.append(pd.DataFrame({'shuffle':i, 'predictions': predictions,\n",
    "                                            'trial':trial[test_idx], 'true':true} ) )"
   ]
  },
  {
   "cell_type": "code",
   "execution_count": 151,
   "metadata": {
    "collapsed": true
   },
   "outputs": [],
   "source": [
    "l = LabelEncoder()\n",
    "t = l.fit_transform(results.true)\n",
    "p = l.transform(results.predictions)"
   ]
  },
  {
   "cell_type": "code",
   "execution_count": 152,
   "metadata": {},
   "outputs": [
    {
     "data": {
      "text/plain": [
       "array([[793,  83,  45,  49,  43,  39,  30,  41,  50, 137],\n",
       "       [759,  76,  37,  64,  49,  42,  29,  50,  57, 147],\n",
       "       [728,  76,  35,  71,  49,  43,  40,  57,  61, 150],\n",
       "       [705,  64,  31,  78,  57,  46,  41,  67,  67, 154],\n",
       "       [673,  72,  35,  70,  65,  52,  42,  66,  79, 156],\n",
       "       [645,  72,  39,  69,  69,  57,  50,  76,  71, 162],\n",
       "       [639,  70,  35,  69,  69,  61,  51,  82,  74, 160],\n",
       "       [632,  72,  36,  73,  65,  58,  52,  84,  79, 159],\n",
       "       [627,  74,  34,  73,  58,  60,  50,  85,  82, 167],\n",
       "       [623,  80,  35,  77,  54,  56,  49,  89,  79, 168]])"
      ]
     },
     "execution_count": 152,
     "metadata": {},
     "output_type": "execute_result"
    }
   ],
   "source": [
    "confusion_matrix(t,p)"
   ]
  },
  {
   "cell_type": "code",
   "execution_count": 153,
   "metadata": {},
   "outputs": [
    {
     "data": {
      "text/plain": [
       "<matplotlib.axes._subplots.AxesSubplot at 0x7f9602a56940>"
      ]
     },
     "execution_count": 153,
     "metadata": {},
     "output_type": "execute_result"
    },
    {
     "data": {
      "image/png": "[encoded data removed]",
      "text/plain": [
       "<matplotlib.figure.Figure at 0x7f9602b002b0>"
      ]
     },
     "metadata": {},
     "output_type": "display_data"
    }
   ],
   "source": [
    "sns.heatmap(confusion_matrix(t, p))"
   ]
  },
  {
   "cell_type": "markdown",
   "metadata": {},
   "source": [
    "## Logistic Regression"
   ]
  },
  {
   "cell_type": "code",
   "execution_count": 25,
   "metadata": {
    "collapsed": true
   },
   "outputs": [],
   "source": [
    "from sklearn.linear_model import LogisticRegression\n",
    "from sklearn.linear_model import SGDClassifier"
   ]
  },
  {
   "cell_type": "code",
   "execution_count": 26,
   "metadata": {},
   "outputs": [],
   "source": [
    "from sklearn.preprocessing import StandardScaler"
   ]
  },
  {
   "cell_type": "code",
   "execution_count": 27,
   "metadata": {
    "collapsed": true
   },
   "outputs": [],
   "source": [
    "ss = StandardScaler()"
   ]
  },
  {
   "cell_type": "code",
   "execution_count": 472,
   "metadata": {
    "collapsed": true
   },
   "outputs": [],
   "source": [
    "times = np.unique(y)/1000\n",
    "idxtimes = pd.Index(times, name='Time from onset(s)')"
   ]
  },
  {
   "cell_type": "code",
   "execution_count": 473,
   "metadata": {},
   "outputs": [],
   "source": [
    "conf = pd.DataFrame(confusion_matrix(res.true, res.predictions),index=idxtimes,columns=idxtimes)"
   ]
  },
  {
   "cell_type": "code",
   "execution_count": 20,
   "metadata": {},
   "outputs": [],
   "source": [
    "from ipywidgets import interact\n",
    "import ipywidgets.widgets as wdg"
   ]
  },
  {
   "cell_type": "code",
   "execution_count": 21,
   "metadata": {},
   "outputs": [],
   "source": [
    "from IPython.display import display"
   ]
  },
  {
   "cell_type": "code",
   "execution_count": 22,
   "metadata": {
    "collapsed": true
   },
   "outputs": [],
   "source": [
    "from itertools import count\n",
    "from IPython.display import clear_output, update_display"
   ]
  },
  {
   "cell_type": "code",
   "execution_count": 23,
   "metadata": {},
   "outputs": [],
   "source": [
    "%matplotlib inline"
   ]
  },
  {
   "cell_type": "code",
   "execution_count": 81,
   "metadata": {
    "collapsed": true
   },
   "outputs": [],
   "source": [
    "from scipy.stats import pearsonr"
   ]
  },
  {
   "cell_type": "code",
   "execution_count": 82,
   "metadata": {},
   "outputs": [
    {
     "data": {
      "text/plain": [
       "(0.30750803028369411, 0.0)"
      ]
     },
     "execution_count": 82,
     "metadata": {},
     "output_type": "execute_result"
    }
   ],
   "source": [
    "pearsonr(res.true, res.prediction)\n",
    "pearsonr(res.true, res.prediction)"
   ]
  },
  {
   "cell_type": "code",
   "execution_count": 96,
   "metadata": {
    "scrolled": true
   },
   "outputs": [],
   "source": [
    "test = res.groupby('set').get_group('test')"
   ]
  },
  {
   "cell_type": "code",
   "execution_count": 99,
   "metadata": {
    "scrolled": true
   },
   "outputs": [
    {
     "data": {
      "text/plain": [
       "<matplotlib.axes._subplots.AxesSubplot at 0x7f16666e2b70>"
      ]
     },
     "execution_count": 99,
     "metadata": {},
     "output_type": "execute_result"
    },
    {
     "data": {
      "image/png": "[encoded data removed]",
      "text/plain": [
       "<matplotlib.figure.Figure at 0x7f16663d84a8>"
      ]
     },
     "metadata": {},
     "output_type": "display_data"
    }
   ],
   "source": [
    "sns.heatmap(confusion_matrix(test.true, test.prediction))\n"
   ]
  },
  {
   "cell_type": "code",
   "execution_count": 131,
   "metadata": {
    "collapsed": true
   },
   "outputs": [],
   "source": []
  },
  {
   "cell_type": "code",
   "execution_count": 138,
   "metadata": {},
   "outputs": [],
   "source": [
    "from ipywidgets import HBox"
   ]
  },
  {
   "cell_type": "code",
   "execution_count": 144,
   "metadata": {
    "collapsed": true
   },
   "outputs": [],
   "source": [
    "from ipywidgets import interactive_output"
   ]
  },
  {
   "cell_type": "code",
   "execution_count": 161,
   "metadata": {},
   "outputs": [
    {
     "ename": "DataError",
     "evalue": "No numeric types to aggregate",
     "output_type": "error",
     "traceback": [
      "\u001b[0;31m---------------------------------------------------------------------------\u001b[0m",
      "\u001b[0;31mDataError\u001b[0m                                 Traceback (most recent call last)",
      "\u001b[0;32m<ipython-input-161-ecec4c337c5f>\u001b[0m in \u001b[0;36m<module>\u001b[0;34m()\u001b[0m\n\u001b[0;32m----> 1\u001b[0;31m \u001b[0mweights\u001b[0m\u001b[0;34m.\u001b[0m\u001b[0mabs\u001b[0m\u001b[0;34m(\u001b[0m\u001b[0;34m)\u001b[0m\u001b[0;34m.\u001b[0m\u001b[0mgroupby\u001b[0m\u001b[0;34m(\u001b[0m\u001b[0;34m'unit'\u001b[0m\u001b[0;34m)\u001b[0m\u001b[0;34m.\u001b[0m\u001b[0mmean\u001b[0m\u001b[0;34m(\u001b[0m\u001b[0;34m)\u001b[0m\u001b[0;31m#.value\u001b[0m\u001b[0;34m\u001b[0m\u001b[0m\n\u001b[0m",
      "\u001b[0;32m~/anaconda3/lib/python3.6/site-packages/pandas/core/groupby.py\u001b[0m in \u001b[0;36mmean\u001b[0;34m(self, *args, **kwargs)\u001b[0m\n\u001b[1;32m   1035\u001b[0m         \u001b[0mnv\u001b[0m\u001b[0;34m.\u001b[0m\u001b[0mvalidate_groupby_func\u001b[0m\u001b[0;34m(\u001b[0m\u001b[0;34m'mean'\u001b[0m\u001b[0;34m,\u001b[0m \u001b[0margs\u001b[0m\u001b[0;34m,\u001b[0m \u001b[0mkwargs\u001b[0m\u001b[0;34m,\u001b[0m \u001b[0;34m[\u001b[0m\u001b[0;34m'numeric_only'\u001b[0m\u001b[0;34m]\u001b[0m\u001b[0;34m)\u001b[0m\u001b[0;34m\u001b[0m\u001b[0m\n\u001b[1;32m   1036\u001b[0m         \u001b[0;32mtry\u001b[0m\u001b[0;34m:\u001b[0m\u001b[0;34m\u001b[0m\u001b[0m\n\u001b[0;32m-> 1037\u001b[0;31m             \u001b[0;32mreturn\u001b[0m \u001b[0mself\u001b[0m\u001b[0;34m.\u001b[0m\u001b[0m_cython_agg_general\u001b[0m\u001b[0;34m(\u001b[0m\u001b[0;34m'mean'\u001b[0m\u001b[0;34m,\u001b[0m \u001b[0;34m**\u001b[0m\u001b[0mkwargs\u001b[0m\u001b[0;34m)\u001b[0m\u001b[0;34m\u001b[0m\u001b[0m\n\u001b[0m\u001b[1;32m   1038\u001b[0m         \u001b[0;32mexcept\u001b[0m \u001b[0mGroupByError\u001b[0m\u001b[0;34m:\u001b[0m\u001b[0;34m\u001b[0m\u001b[0m\n\u001b[1;32m   1039\u001b[0m             \u001b[0;32mraise\u001b[0m\u001b[0;34m\u001b[0m\u001b[0m\n",
      "\u001b[0;32m~/anaconda3/lib/python3.6/site-packages/pandas/core/groupby.py\u001b[0m in \u001b[0;36m_cython_agg_general\u001b[0;34m(self, how, alt, numeric_only)\u001b[0m\n\u001b[1;32m   3352\u001b[0m     \u001b[0;32mdef\u001b[0m \u001b[0m_cython_agg_general\u001b[0m\u001b[0;34m(\u001b[0m\u001b[0mself\u001b[0m\u001b[0;34m,\u001b[0m \u001b[0mhow\u001b[0m\u001b[0;34m,\u001b[0m \u001b[0malt\u001b[0m\u001b[0;34m=\u001b[0m\u001b[0;32mNone\u001b[0m\u001b[0;34m,\u001b[0m \u001b[0mnumeric_only\u001b[0m\u001b[0;34m=\u001b[0m\u001b[0;32mTrue\u001b[0m\u001b[0;34m)\u001b[0m\u001b[0;34m:\u001b[0m\u001b[0;34m\u001b[0m\u001b[0m\n\u001b[1;32m   3353\u001b[0m         new_items, new_blocks = self._cython_agg_blocks(\n\u001b[0;32m-> 3354\u001b[0;31m             how, alt=alt, numeric_only=numeric_only)\n\u001b[0m\u001b[1;32m   3355\u001b[0m         \u001b[0;32mreturn\u001b[0m \u001b[0mself\u001b[0m\u001b[0;34m.\u001b[0m\u001b[0m_wrap_agged_blocks\u001b[0m\u001b[0;34m(\u001b[0m\u001b[0mnew_items\u001b[0m\u001b[0;34m,\u001b[0m \u001b[0mnew_blocks\u001b[0m\u001b[0;34m)\u001b[0m\u001b[0;34m\u001b[0m\u001b[0m\n\u001b[1;32m   3356\u001b[0m \u001b[0;34m\u001b[0m\u001b[0m\n",
      "\u001b[0;32m~/anaconda3/lib/python3.6/site-packages/pandas/core/groupby.py\u001b[0m in \u001b[0;36m_cython_agg_blocks\u001b[0;34m(self, how, alt, numeric_only)\u001b[0m\n\u001b[1;32m   3423\u001b[0m \u001b[0;34m\u001b[0m\u001b[0m\n\u001b[1;32m   3424\u001b[0m         \u001b[0;32mif\u001b[0m \u001b[0mlen\u001b[0m\u001b[0;34m(\u001b[0m\u001b[0mnew_blocks\u001b[0m\u001b[0;34m)\u001b[0m \u001b[0;34m==\u001b[0m \u001b[0;36m0\u001b[0m\u001b[0;34m:\u001b[0m\u001b[0;34m\u001b[0m\u001b[0m\n\u001b[0;32m-> 3425\u001b[0;31m             \u001b[0;32mraise\u001b[0m \u001b[0mDataError\u001b[0m\u001b[0;34m(\u001b[0m\u001b[0;34m'No numeric types to aggregate'\u001b[0m\u001b[0;34m)\u001b[0m\u001b[0;34m\u001b[0m\u001b[0m\n\u001b[0m\u001b[1;32m   3426\u001b[0m \u001b[0;34m\u001b[0m\u001b[0m\n\u001b[1;32m   3427\u001b[0m         \u001b[0;31m# reset the locs in the blocks to correspond to our\u001b[0m\u001b[0;34m\u001b[0m\u001b[0;34m\u001b[0m\u001b[0m\n",
      "\u001b[0;31mDataError\u001b[0m: No numeric types to aggregate"
     ]
    }
   ],
   "source": [
    "weights.abs().groupby('unit').mean().value"
   ]
  },
  {
   "cell_type": "code",
   "execution_count": null,
   "metadata": {
    "collapsed": true
   },
   "outputs": [],
   "source": [
    "pd.DataFrame.pivot()"
   ]
  },
  {
   "cell_type": "code",
   "execution_count": null,
   "metadata": {
    "collapsed": true
   },
   "outputs": [],
   "source": [
    "pd.DataFrame.set_index()"
   ]
  },
  {
   "cell_type": "code",
   "execution_count": null,
   "metadata": {
    "collapsed": true
   },
   "outputs": [],
   "source": []
  },
  {
   "cell_type": "code",
   "execution_count": null,
   "metadata": {
    "collapsed": true
   },
   "outputs": [],
   "source": []
  },
  {
   "cell_type": "code",
   "execution_count": 208,
   "metadata": {},
   "outputs": [
    {
     "ename": "SyntaxError",
     "evalue": "invalid syntax (<ipython-input-208-dacf8095b598>, line 1)",
     "output_type": "error",
     "traceback": [
      "\u001b[0;36m  File \u001b[0;32m\"<ipython-input-208-dacf8095b598>\"\u001b[0;36m, line \u001b[0;32m1\u001b[0m\n\u001b[0;31m    .reset_index().set_index('index', drop=False).pivot(columns='index')\u001b[0m\n\u001b[0m    ^\u001b[0m\n\u001b[0;31mSyntaxError\u001b[0m\u001b[0;31m:\u001b[0m invalid syntax\n"
     ]
    }
   ],
   "source": [
    ".reset_index().set_index('index', drop=False).pivot(columns='index')"
   ]
  },
  {
   "cell_type": "code",
   "execution_count": 212,
   "metadata": {},
   "outputs": [
    {
     "data": {
      "text/html": [
       "<div>\n",
       "<style>\n",
       "    .dataframe thead tr:only-child th {\n",
       "        text-align: right;\n",
       "    }\n",
       "\n",
       "    .dataframe thead th {\n",
       "        text-align: left;\n",
       "    }\n",
       "\n",
       "    .dataframe tbody tr th {\n",
       "        vertical-align: top;\n",
       "    }\n",
       "</style>\n",
       "<table border=\"1\" class=\"dataframe\">\n",
       "  <thead>\n",
       "    <tr>\n",
       "      <th></th>\n",
       "      <th colspan=\"21\" halign=\"left\">Rate</th>\n",
       "    </tr>\n",
       "    <tr>\n",
       "      <th>trial</th>\n",
       "      <th>9</th>\n",
       "      <th>33</th>\n",
       "      <th>35</th>\n",
       "      <th>38</th>\n",
       "      <th>41</th>\n",
       "      <th>47</th>\n",
       "      <th>50</th>\n",
       "      <th>52</th>\n",
       "      <th>54</th>\n",
       "      <th>63</th>\n",
       "      <th>...</th>\n",
       "      <th>1660</th>\n",
       "      <th>1661</th>\n",
       "      <th>1662</th>\n",
       "      <th>1664</th>\n",
       "      <th>1665</th>\n",
       "      <th>1667</th>\n",
       "      <th>1668</th>\n",
       "      <th>1669</th>\n",
       "      <th>1670</th>\n",
       "      <th>1671</th>\n",
       "    </tr>\n",
       "  </thead>\n",
       "  <tbody>\n",
       "    <tr>\n",
       "      <th>200.0</th>\n",
       "      <td>0.160459</td>\n",
       "      <td>0.189288</td>\n",
       "      <td>-0.351279</td>\n",
       "      <td>-0.199872</td>\n",
       "      <td>-0.684509</td>\n",
       "      <td>-0.103714</td>\n",
       "      <td>-0.683743</td>\n",
       "      <td>-0.684509</td>\n",
       "      <td>-0.653294</td>\n",
       "      <td>-0.618465</td>\n",
       "      <td>...</td>\n",
       "      <td>-0.684509</td>\n",
       "      <td>-0.578962</td>\n",
       "      <td>0.255915</td>\n",
       "      <td>-0.677330</td>\n",
       "      <td>-0.684509</td>\n",
       "      <td>-0.684509</td>\n",
       "      <td>-0.684509</td>\n",
       "      <td>-0.684509</td>\n",
       "      <td>-0.684509</td>\n",
       "      <td>-0.684509</td>\n",
       "    </tr>\n",
       "    <tr>\n",
       "      <th>300.0</th>\n",
       "      <td>-0.332341</td>\n",
       "      <td>0.835852</td>\n",
       "      <td>0.120863</td>\n",
       "      <td>1.136416</td>\n",
       "      <td>-0.684509</td>\n",
       "      <td>-0.061413</td>\n",
       "      <td>-0.458941</td>\n",
       "      <td>-0.684509</td>\n",
       "      <td>-0.069833</td>\n",
       "      <td>0.519700</td>\n",
       "      <td>...</td>\n",
       "      <td>-0.630869</td>\n",
       "      <td>0.510147</td>\n",
       "      <td>0.429329</td>\n",
       "      <td>-0.294337</td>\n",
       "      <td>-0.684509</td>\n",
       "      <td>-0.684509</td>\n",
       "      <td>-0.684509</td>\n",
       "      <td>-0.675278</td>\n",
       "      <td>-0.684509</td>\n",
       "      <td>-0.684509</td>\n",
       "    </tr>\n",
       "    <tr>\n",
       "      <th>400.0</th>\n",
       "      <td>0.385538</td>\n",
       "      <td>2.315798</td>\n",
       "      <td>-0.279502</td>\n",
       "      <td>0.842739</td>\n",
       "      <td>-0.654777</td>\n",
       "      <td>-0.139637</td>\n",
       "      <td>0.212507</td>\n",
       "      <td>-0.660161</td>\n",
       "      <td>-0.112313</td>\n",
       "      <td>1.333671</td>\n",
       "      <td>...</td>\n",
       "      <td>0.375445</td>\n",
       "      <td>0.922568</td>\n",
       "      <td>-0.160091</td>\n",
       "      <td>0.082143</td>\n",
       "      <td>-0.684509</td>\n",
       "      <td>-0.684509</td>\n",
       "      <td>-0.650150</td>\n",
       "      <td>-0.056022</td>\n",
       "      <td>-0.684509</td>\n",
       "      <td>-0.684509</td>\n",
       "    </tr>\n",
       "    <tr>\n",
       "      <th>500.0</th>\n",
       "      <td>0.732077</td>\n",
       "      <td>0.979454</td>\n",
       "      <td>0.149251</td>\n",
       "      <td>1.120480</td>\n",
       "      <td>-0.078216</td>\n",
       "      <td>0.312376</td>\n",
       "      <td>0.564965</td>\n",
       "      <td>-0.112313</td>\n",
       "      <td>-0.660161</td>\n",
       "      <td>0.243111</td>\n",
       "      <td>...</td>\n",
       "      <td>0.626436</td>\n",
       "      <td>0.088131</td>\n",
       "      <td>0.233040</td>\n",
       "      <td>-0.444746</td>\n",
       "      <td>-0.684509</td>\n",
       "      <td>-0.684509</td>\n",
       "      <td>-0.003749</td>\n",
       "      <td>0.938128</td>\n",
       "      <td>-0.684509</td>\n",
       "      <td>-0.684509</td>\n",
       "    </tr>\n",
       "    <tr>\n",
       "      <th>600.0</th>\n",
       "      <td>0.300873</td>\n",
       "      <td>-0.410623</td>\n",
       "      <td>0.183315</td>\n",
       "      <td>0.084980</td>\n",
       "      <td>-0.103714</td>\n",
       "      <td>0.372262</td>\n",
       "      <td>0.578710</td>\n",
       "      <td>-0.069833</td>\n",
       "      <td>-0.675183</td>\n",
       "      <td>0.565502</td>\n",
       "      <td>...</td>\n",
       "      <td>0.070819</td>\n",
       "      <td>-0.637122</td>\n",
       "      <td>0.244572</td>\n",
       "      <td>0.156903</td>\n",
       "      <td>-0.684509</td>\n",
       "      <td>-0.684509</td>\n",
       "      <td>0.564225</td>\n",
       "      <td>0.166163</td>\n",
       "      <td>-0.684509</td>\n",
       "      <td>-0.684509</td>\n",
       "    </tr>\n",
       "    <tr>\n",
       "      <th>700.0</th>\n",
       "      <td>-0.561552</td>\n",
       "      <td>-0.357302</td>\n",
       "      <td>0.903607</td>\n",
       "      <td>0.351208</td>\n",
       "      <td>-0.630589</td>\n",
       "      <td>0.268102</td>\n",
       "      <td>-0.593245</td>\n",
       "      <td>-0.653294</td>\n",
       "      <td>-0.168798</td>\n",
       "      <td>1.398081</td>\n",
       "      <td>...</td>\n",
       "      <td>-0.137069</td>\n",
       "      <td>-0.533352</td>\n",
       "      <td>0.025939</td>\n",
       "      <td>-0.445903</td>\n",
       "      <td>-0.684509</td>\n",
       "      <td>-0.684509</td>\n",
       "      <td>-0.177688</td>\n",
       "      <td>-0.095161</td>\n",
       "      <td>-0.684509</td>\n",
       "      <td>-0.684509</td>\n",
       "    </tr>\n",
       "    <tr>\n",
       "      <th>800.0</th>\n",
       "      <td>-0.669481</td>\n",
       "      <td>0.822689</td>\n",
       "      <td>0.641301</td>\n",
       "      <td>0.516918</td>\n",
       "      <td>0.054569</td>\n",
       "      <td>-0.495412</td>\n",
       "      <td>-0.684509</td>\n",
       "      <td>-0.662894</td>\n",
       "      <td>0.845981</td>\n",
       "      <td>1.176616</td>\n",
       "      <td>...</td>\n",
       "      <td>-0.038227</td>\n",
       "      <td>0.462979</td>\n",
       "      <td>0.163746</td>\n",
       "      <td>-0.683423</td>\n",
       "      <td>-0.684509</td>\n",
       "      <td>-0.684509</td>\n",
       "      <td>-0.670311</td>\n",
       "      <td>-0.657576</td>\n",
       "      <td>-0.684509</td>\n",
       "      <td>-0.684509</td>\n",
       "    </tr>\n",
       "    <tr>\n",
       "      <th>900.0</th>\n",
       "      <td>-0.118489</td>\n",
       "      <td>0.156588</td>\n",
       "      <td>1.565982</td>\n",
       "      <td>0.568796</td>\n",
       "      <td>0.749889</td>\n",
       "      <td>-0.684509</td>\n",
       "      <td>-0.684509</td>\n",
       "      <td>0.203839</td>\n",
       "      <td>-0.222829</td>\n",
       "      <td>-0.163001</td>\n",
       "      <td>...</td>\n",
       "      <td>0.878262</td>\n",
       "      <td>2.002850</td>\n",
       "      <td>-0.003862</td>\n",
       "      <td>-0.661378</td>\n",
       "      <td>-0.623109</td>\n",
       "      <td>-0.684509</td>\n",
       "      <td>-0.684509</td>\n",
       "      <td>-0.684509</td>\n",
       "      <td>-0.684509</td>\n",
       "      <td>-0.684509</td>\n",
       "    </tr>\n",
       "    <tr>\n",
       "      <th>1000.0</th>\n",
       "      <td>0.855549</td>\n",
       "      <td>0.360851</td>\n",
       "      <td>1.315257</td>\n",
       "      <td>0.878544</td>\n",
       "      <td>0.332346</td>\n",
       "      <td>-0.684509</td>\n",
       "      <td>-0.676308</td>\n",
       "      <td>2.015147</td>\n",
       "      <td>0.002733</td>\n",
       "      <td>-0.641949</td>\n",
       "      <td>...</td>\n",
       "      <td>0.864067</td>\n",
       "      <td>1.379080</td>\n",
       "      <td>0.771991</td>\n",
       "      <td>-0.120952</td>\n",
       "      <td>0.044676</td>\n",
       "      <td>-0.684509</td>\n",
       "      <td>-0.666760</td>\n",
       "      <td>-0.673947</td>\n",
       "      <td>-0.684509</td>\n",
       "      <td>-0.684509</td>\n",
       "    </tr>\n",
       "    <tr>\n",
       "      <th>1100.0</th>\n",
       "      <td>0.567691</td>\n",
       "      <td>0.360199</td>\n",
       "      <td>1.599543</td>\n",
       "      <td>0.223231</td>\n",
       "      <td>0.884776</td>\n",
       "      <td>-0.681971</td>\n",
       "      <td>-0.265572</td>\n",
       "      <td>1.521741</td>\n",
       "      <td>0.529492</td>\n",
       "      <td>-0.053279</td>\n",
       "      <td>...</td>\n",
       "      <td>1.186228</td>\n",
       "      <td>-0.521921</td>\n",
       "      <td>1.552055</td>\n",
       "      <td>-0.061519</td>\n",
       "      <td>-0.186809</td>\n",
       "      <td>-0.684509</td>\n",
       "      <td>-0.164568</td>\n",
       "      <td>-0.243221</td>\n",
       "      <td>-0.684509</td>\n",
       "      <td>-0.684509</td>\n",
       "    </tr>\n",
       "  </tbody>\n",
       "</table>\n",
       "<p>10 rows × 1030 columns</p>\n",
       "</div>"
      ],
      "text/plain": [
       "            Rate                                                              \\\n",
       "trial       9         33        35        38        41        47        50     \n",
       "200.0   0.160459  0.189288 -0.351279 -0.199872 -0.684509 -0.103714 -0.683743   \n",
       "300.0  -0.332341  0.835852  0.120863  1.136416 -0.684509 -0.061413 -0.458941   \n",
       "400.0   0.385538  2.315798 -0.279502  0.842739 -0.654777 -0.139637  0.212507   \n",
       "500.0   0.732077  0.979454  0.149251  1.120480 -0.078216  0.312376  0.564965   \n",
       "600.0   0.300873 -0.410623  0.183315  0.084980 -0.103714  0.372262  0.578710   \n",
       "700.0  -0.561552 -0.357302  0.903607  0.351208 -0.630589  0.268102 -0.593245   \n",
       "800.0  -0.669481  0.822689  0.641301  0.516918  0.054569 -0.495412 -0.684509   \n",
       "900.0  -0.118489  0.156588  1.565982  0.568796  0.749889 -0.684509 -0.684509   \n",
       "1000.0  0.855549  0.360851  1.315257  0.878544  0.332346 -0.684509 -0.676308   \n",
       "1100.0  0.567691  0.360199  1.599543  0.223231  0.884776 -0.681971 -0.265572   \n",
       "\n",
       "                                        ...                                   \\\n",
       "trial       52        54        63      ...         1660      1661      1662   \n",
       "200.0  -0.684509 -0.653294 -0.618465    ...    -0.684509 -0.578962  0.255915   \n",
       "300.0  -0.684509 -0.069833  0.519700    ...    -0.630869  0.510147  0.429329   \n",
       "400.0  -0.660161 -0.112313  1.333671    ...     0.375445  0.922568 -0.160091   \n",
       "500.0  -0.112313 -0.660161  0.243111    ...     0.626436  0.088131  0.233040   \n",
       "600.0  -0.069833 -0.675183  0.565502    ...     0.070819 -0.637122  0.244572   \n",
       "700.0  -0.653294 -0.168798  1.398081    ...    -0.137069 -0.533352  0.025939   \n",
       "800.0  -0.662894  0.845981  1.176616    ...    -0.038227  0.462979  0.163746   \n",
       "900.0   0.203839 -0.222829 -0.163001    ...     0.878262  2.002850 -0.003862   \n",
       "1000.0  2.015147  0.002733 -0.641949    ...     0.864067  1.379080  0.771991   \n",
       "1100.0  1.521741  0.529492 -0.053279    ...     1.186228 -0.521921  1.552055   \n",
       "\n",
       "                                                                              \n",
       "trial       1664      1665      1667      1668      1669      1670      1671  \n",
       "200.0  -0.677330 -0.684509 -0.684509 -0.684509 -0.684509 -0.684509 -0.684509  \n",
       "300.0  -0.294337 -0.684509 -0.684509 -0.684509 -0.675278 -0.684509 -0.684509  \n",
       "400.0   0.082143 -0.684509 -0.684509 -0.650150 -0.056022 -0.684509 -0.684509  \n",
       "500.0  -0.444746 -0.684509 -0.684509 -0.003749  0.938128 -0.684509 -0.684509  \n",
       "600.0   0.156903 -0.684509 -0.684509  0.564225  0.166163 -0.684509 -0.684509  \n",
       "700.0  -0.445903 -0.684509 -0.684509 -0.177688 -0.095161 -0.684509 -0.684509  \n",
       "800.0  -0.683423 -0.684509 -0.684509 -0.670311 -0.657576 -0.684509 -0.684509  \n",
       "900.0  -0.661378 -0.623109 -0.684509 -0.684509 -0.684509 -0.684509 -0.684509  \n",
       "1000.0 -0.120952  0.044676 -0.684509 -0.666760 -0.673947 -0.684509 -0.684509  \n",
       "1100.0 -0.061519 -0.186809 -0.684509 -0.164568 -0.243221 -0.684509 -0.684509  \n",
       "\n",
       "[10 rows x 1030 columns]"
      ]
     },
     "execution_count": 212,
     "metadata": {},
     "output_type": "execute_result"
    }
   ],
   "source": []
  },
  {
   "cell_type": "code",
   "execution_count": 397,
   "metadata": {
    "scrolled": false
   },
   "outputs": [
    {
     "data": {
      "application/vnd.jupyter.widget-view+json": {
       "model_id": "9d3cf9525211415fb187820ec74ac119",
       "version_major": 2,
       "version_minor": 0
      },
      "text/html": [
       "<p>Failed to display Jupyter Widget of type <code>HBox</code>.</p>\n",
       "<p>\n",
       "  If you're reading this message in Jupyter Notebook or JupyterLab, it may mean\n",
       "  that the widgets JavaScript is still loading. If this message persists, it\n",
       "  likely means that the widgets JavaScript library is either not installed or\n",
       "  not enabled. See the <a href=\"https://ipywidgets.readthedocs.io/en/stable/user_install.html\">Jupyter\n",
       "  Widgets Documentation</a> for setup instructions.\n",
       "</p>\n",
       "<p>\n",
       "  If you're reading this message in another notebook frontend (for example, a static\n",
       "  rendering on GitHub or <a href=\"https://nbviewer.jupyter.org/\">NBViewer</a>),\n",
       "  it may mean that your frontend doesn't currently support widgets.\n",
       "</p>\n"
      ],
      "text/plain": [
       "HBox(children=(Dropdown(options=('DRRD 7', 'DRRD 8', 'DRRD 9', 'DRRD 10'), value='DRRD 7'), Dropdown(options=('narrow_smoothed', 'wide_smoothed'), value='narrow_smoothed'), IntSlider(value=1, max=10, min=1)))"
      ]
     },
     "metadata": {},
     "output_type": "display_data"
    },
    {
     "data": {
      "application/vnd.jupyter.widget-view+json": {
       "model_id": "ae9db74f7d1f49278b5f99d90ae31ba2",
       "version_major": 2,
       "version_minor": 0
      },
      "text/html": [
       "<p>Failed to display Jupyter Widget of type <code>Output</code>.</p>\n",
       "<p>\n",
       "  If you're reading this message in Jupyter Notebook or JupyterLab, it may mean\n",
       "  that the widgets JavaScript is still loading. If this message persists, it\n",
       "  likely means that the widgets JavaScript library is either not installed or\n",
       "  not enabled. See the <a href=\"https://ipywidgets.readthedocs.io/en/stable/user_install.html\">Jupyter\n",
       "  Widgets Documentation</a> for setup instructions.\n",
       "</p>\n",
       "<p>\n",
       "  If you're reading this message in another notebook frontend (for example, a static\n",
       "  rendering on GitHub or <a href=\"https://nbviewer.jupyter.org/\">NBViewer</a>),\n",
       "  it may mean that your frontend doesn't currently support widgets.\n",
       "</p>\n"
      ],
      "text/plain": [
       "Output()"
      ]
     },
     "metadata": {},
     "output_type": "display_data"
    }
   ],
   "source": [
    "srat = wdg.Dropdown(options=['DRRD %d'%i for i in [7,8,9,10]])\n",
    "sdset = wdg.Dropdown(options=['narrow_smoothed', 'wide_smoothed'])\n",
    "snsplits = wdg.IntSlider(min=1,max=10)\n",
    "\n",
    "d = HBox([srat,sdset,snsplits])\n",
    "\n",
    "\n",
    "def choose_rat(label, n_splits, dset):\n",
    "    data = io.load(label, dset)\n",
    "\n",
    "    \n",
    "    # TODO change selection to inside, and add selection 'range'\n",
    "    data = select(data, _min_duration=1.5)\n",
    "    Xab, y, trial = to_feature_array(data)\n",
    "    X = ss.fit_transform(Xab)\n",
    "    \n",
    "    sh = GroupShuffleSplit(n_splits=n_splits, train_size=.8,test_size=.2)\n",
    "    \n",
    "    @interact(logC=wdg.FloatSlider(min=-6, max=8,step=.25, continuous_update=False), penalty=wdg.Dropdown(options=['l1','l2']))\n",
    "    def choose_regularization(logC, penalty):\n",
    "        clf = LogisticRegression(C=10**logC, penalty=penalty)\n",
    "        allres = pd.DataFrame()\n",
    "        fig, ax = plt.subplots(2, 2, figsize=(20,8));\n",
    "        #disp =display(fig,display_id='fig')\n",
    "        res, weights = shuffle_val_predict(clf, X, y, trial, cv=sh, get_weights = True)\n",
    "        #allres = allres.append(res.groupby('true').mean().drop(['cv', 'group'],axis=1)).groupby('true').mean()\n",
    "        train = res.groupby('set').get_group('train')\n",
    "        test  = res.groupby('set').get_group('test')\n",
    "\n",
    "        train_proba = train.groupby('true').mean().drop(['cv', 'group','predictions', 'mean'],axis=1)\n",
    "        test_proba = test.groupby('true').mean().drop(['cv', 'group','predictions', 'mean'],axis=1)\n",
    "\n",
    "        # Plot train results\n",
    "        \n",
    "        axt = plt.subplot(2,4,1);    sns.heatmap(train_proba, ax=axt, cbar=False); plt.title('Train probabilities')\n",
    "        axt = plt.subplot(2,4,2);    sns.heatmap(confusion_matrix(train.true, train.predictions), ax=axt, cbar=False); plt.title('Train predictions')\n",
    "\n",
    "        # Plot test results\n",
    "        axt = plt.subplot(2,4,5);    sns.heatmap(test_proba, ax=axt, cbar=False); plt.title('Test probabilities')\n",
    "        axt = plt.subplot(2,4,6);    sns.heatmap(confusion_matrix(test.true, test.predictions), ax=axt, cbar=False); plt.title('Test predictions')\n",
    "\n",
    "        # Weights\n",
    "        axt = plt.subplot(2,4,3)\n",
    "        sns.barplot('unit','value', data=weights.abs(), ax=axt); plt.title('(abs) Weight of each neuron')\n",
    "        plt.ylim([0,.5])\n",
    "        \n",
    "        axt = plt.subplot(2,4,4)\n",
    "        weights = weights.applymap(abs).groupby('unit').mean().reset_index().value\n",
    "        w = (weights.sort_values()/weights.max()).values **2\n",
    "        rank = weights.argsort().values\n",
    "        \n",
    "        activity = pd.DataFrame(X[:,rank], index=y).reset_index().groupby('index')\n",
    "        mean = activity.mean()\n",
    "        std = activity.std()/np.sqrt(np.unique(trial).shape[0])\n",
    "        \n",
    "        c = sns.palettes.color_palette('viridis', X.shape[1])\n",
    "        for i, line in mean.transpose().iterrows():\n",
    "            plt.plot(line, alpha=w[i], linewidth=4*(i**1.1)/X.shape[1], color=c[i])\n",
    "            plt.fill_between(np.unique(y), line+std[i], line-std[i], alpha=w[i]/2, color=c[i])\n",
    "        plt.title('Mean activity of neurons')\n",
    "            \n",
    "        train_r = pearsonr(train.true, train['mean'])[0]\n",
    "        test_r = pearsonr(test.true, test['mean'])[0]\n",
    "        rs = pd.DataFrame([train_r, test_r],index=['Train','Test'], columns =['r']).reset_index()\n",
    "        \n",
    "        sns.barplot('r','index',data=rs,ax=plt.subplot(4,4,11)); plt.xlim([0,0.5]); plt.title('Score using expected value')\n",
    "        \n",
    "        train_r = pearsonr(train.true, train.predictions)[0]\n",
    "        test_r = pearsonr(test.true, test.predictions)[0]\n",
    "        rs = pd.DataFrame([train_r, test_r],index=['Train','Test'], columns =['r']).reset_index()\n",
    "        sns.barplot('r','index',data=rs,ax=plt.subplot(4,4,15)); plt.xlim([0,0.5]); plt.title('Score using maximum likelihood')\n",
    "        \n",
    "        plt.tight_layout()\n",
    "        \n",
    "        \n",
    "        \n",
    "out = interactive_output(choose_rat, dict(label=srat, n_splits = snsplits, dset = sdset))\n",
    "display(d, out)"
   ]
  },
  {
   "cell_type": "code",
   "execution_count": null,
   "metadata": {
    "collapsed": true
   },
   "outputs": [],
   "source": []
  }
 ],
 "metadata": {
  "hide_input": false,
  "kernelspec": {
   "display_name": "Python 3",
   "language": "python",
   "name": "python3"
  },
  "language_info": {
   "codemirror_mode": {
    "name": "ipython",
    "version": 3
   },
   "file_extension": ".py",
   "mimetype": "text/x-python",
   "name": "python",
   "nbconvert_exporter": "python",
   "pygments_lexer": "ipython3",
   "version": "3.6.2"
  },
  "toc": {
   "colors": {
    "hover_highlight": "#DAA520",
    "navigate_num": "#000000",
    "navigate_text": "#333333",
    "running_highlight": "#FF0000",
    "selected_highlight": "#FFD700",
    "sidebar_border": "#EEEEEE",
    "wrapper_background": "#FFFFFF"
   },
   "moveMenuLeft": true,
   "nav_menu": {
    "height": "30px",
    "width": "253px"
   },
   "navigate_menu": true,
   "number_sections": true,
   "sideBar": true,
   "threshold": 4,
   "toc_cell": true,
   "toc_position": {
    "height": "767px",
    "left": "0px",
    "right": "2348px",
    "top": "105px",
    "width": "212px"
   },
   "toc_section_display": "block",
   "toc_window_display": true,
   "widenNotebook": false
  }
 },
 "nbformat": 4,
 "nbformat_minor": 2
}
