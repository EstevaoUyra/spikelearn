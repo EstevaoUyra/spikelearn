{
 "cells": [
  {
   "cell_type": "markdown",
   "metadata": {
    "toc": "true"
   },
   "source": [
    "# Table of Contents\n",
    " <p><div class=\"lev3 toc-item\"><a href=\"#Cover-Slide-1\" data-toc-modified-id=\"Cover-Slide-1-001\"><span class=\"toc-item-num\">0.0.1&nbsp;&nbsp;</span>Cover Slide 1</a></div><div class=\"lev3 toc-item\"><a href=\"#Cover-Slide-2\" data-toc-modified-id=\"Cover-Slide-2-002\"><span class=\"toc-item-num\">0.0.2&nbsp;&nbsp;</span>Cover Slide 2</a></div><div class=\"lev1 toc-item\"><a href=\"#Headline-Slide\" data-toc-modified-id=\"Headline-Slide-1\"><span class=\"toc-item-num\">1&nbsp;&nbsp;</span>Headline Slide</a></div><div class=\"lev1 toc-item\"><a href=\"#Preprocessing\" data-toc-modified-id=\"Preprocessing-2\"><span class=\"toc-item-num\">2&nbsp;&nbsp;</span>Preprocessing</a></div><div class=\"lev1 toc-item\"><a href=\"#Headline-Subslide\" data-toc-modified-id=\"Headline-Subslide-3\"><span class=\"toc-item-num\">3&nbsp;&nbsp;</span>Headline Subslide</a></div><div class=\"lev1 toc-item\"><a href=\"#Fragment\" data-toc-modified-id=\"Fragment-4\"><span class=\"toc-item-num\">4&nbsp;&nbsp;</span>Fragment</a></div><div class=\"lev3 toc-item\"><a href=\"#Divider\" data-toc-modified-id=\"Divider-401\"><span class=\"toc-item-num\">4.0.1&nbsp;&nbsp;</span>Divider</a></div><div class=\"lev1 toc-item\"><a href=\"#Markdown-Examples\" data-toc-modified-id=\"Markdown-Examples-5\"><span class=\"toc-item-num\">5&nbsp;&nbsp;</span>Markdown Examples</a></div><div class=\"lev4 toc-item\"><a href=\"#Text\" data-toc-modified-id=\"Text-5001\"><span class=\"toc-item-num\">5.0.0.1&nbsp;&nbsp;</span>Text</a></div><div class=\"lev1 toc-item\"><a href=\"#Headline-Subslide\" data-toc-modified-id=\"Headline-Subslide-6\"><span class=\"toc-item-num\">6&nbsp;&nbsp;</span>Headline Subslide</a></div><div class=\"lev4 toc-item\"><a href=\"#Code\" data-toc-modified-id=\"Code-6001\"><span class=\"toc-item-num\">6.0.0.1&nbsp;&nbsp;</span>Code</a></div><div class=\"lev1 toc-item\"><a href=\"#Python-example\" data-toc-modified-id=\"Python-example-7\"><span class=\"toc-item-num\">7&nbsp;&nbsp;</span>Python example</a></div><div class=\"lev4 toc-item\"><a href=\"#Code\" data-toc-modified-id=\"Code-7001\"><span class=\"toc-item-num\">7.0.0.1&nbsp;&nbsp;</span>Code</a></div><div class=\"lev1 toc-item\"><a href=\"#Headline-Subslide\" data-toc-modified-id=\"Headline-Subslide-8\"><span class=\"toc-item-num\">8&nbsp;&nbsp;</span>Headline Subslide</a></div><div class=\"lev4 toc-item\"><a href=\"#Lists\" data-toc-modified-id=\"Lists-8001\"><span class=\"toc-item-num\">8.0.0.1&nbsp;&nbsp;</span>Lists</a></div><div class=\"lev1 toc-item\"><a href=\"#Headline-Subslide\" data-toc-modified-id=\"Headline-Subslide-9\"><span class=\"toc-item-num\">9&nbsp;&nbsp;</span>Headline Subslide</a></div><div class=\"lev4 toc-item\"><a href=\"#Lists\" data-toc-modified-id=\"Lists-9001\"><span class=\"toc-item-num\">9.0.0.1&nbsp;&nbsp;</span>Lists</a></div><div class=\"lev1 toc-item\"><a href=\"#Headline-Subslide\" data-toc-modified-id=\"Headline-Subslide-10\"><span class=\"toc-item-num\">10&nbsp;&nbsp;</span>Headline Subslide</a></div><div class=\"lev4 toc-item\"><a href=\"#Blockquotes\" data-toc-modified-id=\"Blockquotes-10001\"><span class=\"toc-item-num\">10.0.0.1&nbsp;&nbsp;</span>Blockquotes</a></div><div class=\"lev4 toc-item\"><a href=\"#inline-code\" data-toc-modified-id=\"inline-code-10002\"><span class=\"toc-item-num\">10.0.0.2&nbsp;&nbsp;</span>inline code</a></div><div class=\"lev1 toc-item\"><a href=\"#Table\" data-toc-modified-id=\"Table-11\"><span class=\"toc-item-num\">11&nbsp;&nbsp;</span>Table</a></div><div class=\"lev1 toc-item\"><a href=\"#Images\" data-toc-modified-id=\"Images-12\"><span class=\"toc-item-num\">12&nbsp;&nbsp;</span>Images</a></div><div class=\"lev1 toc-item\"><a href=\"#Links\" data-toc-modified-id=\"Links-13\"><span class=\"toc-item-num\">13&nbsp;&nbsp;</span>Links</a></div><div class=\"lev3 toc-item\"><a href=\"#Q&amp;A-Slide\" data-toc-modified-id=\"Q&amp;A-Slide-1301\"><span class=\"toc-item-num\">13.0.1&nbsp;&nbsp;</span>Q&amp;A Slide</a></div>"
   ]
  },
  {
   "cell_type": "code",
   "execution_count": 1,
   "metadata": {
    "collapsed": true,
    "slideshow": {
     "slide_type": "skip"
    }
   },
   "outputs": [],
   "source": [
    "# Add all necessary imports here\n",
    "import matplotlib.pyplot as plt\n",
    "%matplotlib inline\n",
    "plt.style.reload_library()\n",
    "plt.style.use(\"ggplot\")"
   ]
  },
  {
   "cell_type": "markdown",
   "metadata": {
    "slideshow": {
     "slide_type": "skip"
    }
   },
   "source": [
    "### Cover Slide 1"
   ]
  },
  {
   "cell_type": "raw",
   "metadata": {
    "slideshow": {
     "slide_type": "slide"
    }
   },
   "source": [
    "<image>\n",
    "<section data-background=\"img/cover.jpg\" data-state=\"img-transparent no-title-footer\">\n",
    "<div class=\"intro-body\">\n",
    "<div class=\"intro_h1\"><h1>Title</h1></div>\n",
    "<h3>Subtitle of the Presentation</h3>\n",
    "<p><strong><span class=\"a\">Speaker 1</span></strong> <span class=\"b\"></span> <span>Job Title</span></p>\n",
    "<p><strong><span class=\"a\">Speaker 2</span></strong> <span class=\"b\"></span> <span>Job Title</span></p>\n",
    "<p>&nbsp;</p>\n",
    "<p>&nbsp;</p>\n",
    "</div>\n",
    "</section>\n",
    "</image>"
   ]
  },
  {
   "cell_type": "markdown",
   "metadata": {
    "slideshow": {
     "slide_type": "skip"
    }
   },
   "source": [
    "### Cover Slide 2"
   ]
  },
  {
   "cell_type": "raw",
   "metadata": {
    "slideshow": {
     "slide_type": "skip"
    }
   },
   "source": [
    "<image>\n",
    "<section data-state=\"no-title-footer\">\n",
    "<div class=\"intro_h1\"><h1>Title</h1></div>\n",
    "<h3>Subtitle of the Presentation</h3>\n",
    "<p><strong><span class=\"a\">Speaker 1</span></strong> <span class=\"b\"></span> <span>Job Title</span></p>\n",
    "<p><strong><span class=\"a\">Speaker 2</span></strong> <span class=\"b\"></span> <span>Job Title</span></p>\n",
    "<p>&nbsp;</p>\n",
    "<p>&nbsp;</p>\n",
    "</section>\n",
    "</image>"
   ]
  },
  {
   "cell_type": "markdown",
   "metadata": {
    "slideshow": {
     "slide_type": "slide"
    }
   },
   "source": [
    "# Headline Slide"
   ]
  },
  {
   "cell_type": "markdown",
   "metadata": {
    "slideshow": {
     "slide_type": "slide"
    }
   },
   "source": [
    "# Preprocessing"
   ]
  },
  {
   "cell_type": "markdown",
   "metadata": {
    "slideshow": {
     "slide_type": "-"
    }
   },
   "source": [
    "![boot0](bootstrap/shuffle_bins0.png)"
   ]
  },
  {
   "cell_type": "markdown",
   "metadata": {
    "slideshow": {
     "slide_type": "subslide"
    }
   },
   "source": [
    "![boot1](bootstrap/shuffle_bins1.png)"
   ]
  },
  {
   "cell_type": "markdown",
   "metadata": {
    "slideshow": {
     "slide_type": "subslide"
    }
   },
   "source": [
    "![boot2](bootstrap/shuffle_bins2.png)"
   ]
  },
  {
   "cell_type": "markdown",
   "metadata": {
    "slideshow": {
     "slide_type": "subslide"
    }
   },
   "source": [
    "![boot3](bootstrap/shuffle_bins3.png)"
   ]
  },
  {
   "cell_type": "markdown",
   "metadata": {
    "slideshow": {
     "slide_type": "fragment"
    }
   },
   "source": [
    "![boot4](bootstrap/shuffle_bins4.png)"
   ]
  },
  {
   "cell_type": "markdown",
   "metadata": {
    "slideshow": {
     "slide_type": "fragment"
    }
   },
   "source": [
    "![boot5](bootstrap/shuffle_bins5.png)"
   ]
  },
  {
   "cell_type": "code",
   "execution_count": 3,
   "metadata": {
    "collapsed": true,
    "slideshow": {
     "slide_type": "subslide"
    }
   },
   "outputs": [],
   "source": [
    "def f(x):\n",
    "    \"\"\"a docstring\"\"\"\n",
    "    return x**2"
   ]
  },
  {
   "cell_type": "markdown",
   "metadata": {
    "slideshow": {
     "slide_type": "subslide"
    }
   },
   "source": [
    "# Headline Subslide"
   ]
  },
  {
   "cell_type": "code",
   "execution_count": 4,
   "metadata": {
    "slideshow": {
     "slide_type": "-"
    }
   },
   "outputs": [
    {
     "data": {
      "image/png": "[encoded data removed]",
      "text/plain": [
       "<matplotlib.figure.Figure at 0x106d53cf8>"
      ]
     },
     "metadata": {},
     "output_type": "display_data"
    }
   ],
   "source": [
    "plt.plot([1,2,3,4])\n",
    "plt.ylabel('some numbers')\n",
    "plt.show()"
   ]
  },
  {
   "cell_type": "markdown",
   "metadata": {
    "slideshow": {
     "slide_type": "subslide"
    }
   },
   "source": [
    "# Fragment\n",
    "\n",
    "Press the right arrow."
   ]
  },
  {
   "cell_type": "markdown",
   "metadata": {
    "collapsed": true,
    "slideshow": {
     "slide_type": "fragment"
    }
   },
   "source": [
    "- I am a Fragement"
   ]
  },
  {
   "cell_type": "markdown",
   "metadata": {
    "collapsed": true,
    "slideshow": {
     "slide_type": "fragment"
    }
   },
   "source": [
    "- I am another one"
   ]
  },
  {
   "cell_type": "markdown",
   "metadata": {
    "slideshow": {
     "slide_type": "skip"
    }
   },
   "source": [
    "### Divider"
   ]
  },
  {
   "cell_type": "raw",
   "metadata": {
    "raw_mimetype": "text/html",
    "slideshow": {
     "slide_type": "slide"
    }
   },
   "source": [
    "<image>\n",
    "</section>\n",
    "<section data-background=\"#F27C3A\" data-state=\"no-title-footer\">\n",
    "  <div class=\"divider_h1\">\n",
    "    <h1>Divider</h1>\n",
    "  </div>\n",
    "</section>\n",
    "</image>"
   ]
  },
  {
   "cell_type": "markdown",
   "metadata": {
    "slideshow": {
     "slide_type": "slide"
    }
   },
   "source": [
    "# Markdown Examples\n",
    "\n",
    "#### Text\n",
    "\n",
    "It's very easy to make some words **bold** and other words *italic* with Markdown. You can even [link to Google!](http://google.com)"
   ]
  },
  {
   "cell_type": "markdown",
   "metadata": {
    "slideshow": {
     "slide_type": "subslide"
    }
   },
   "source": [
    "# Headline Subslide\n",
    "#### Code\n",
    "\n",
    "```javascript\n",
    "var s = \"JavaScript syntax highlighting\";\n",
    "alert(s);\n",
    "```\n",
    " \n",
    "```python\n",
    "s = \"Python syntax highlighting\"\n",
    "print s\n",
    "```\n",
    " \n",
    "```\n",
    "No language indicated, so no syntax highlighting. \n",
    "But let's throw in a <b>tag</b>.\n",
    "```"
   ]
  },
  {
   "cell_type": "markdown",
   "metadata": {
    "slideshow": {
     "slide_type": "subslide"
    }
   },
   "source": [
    "# Python example\n",
    "\n",
    "#### Code\n",
    "```python\n",
    "# This program adds up integers in the command line\n",
    "import sys\n",
    "try:\n",
    "    total = sum(int(arg) for arg in sys.argv[1:])\n",
    "    print 'sum =', total\n",
    "except ValueError:\n",
    "    print 'Please supply integer arguments'\n",
    "```"
   ]
  },
  {
   "cell_type": "markdown",
   "metadata": {
    "slideshow": {
     "slide_type": "subslide"
    }
   },
   "source": [
    "# Headline Subslide\n",
    "\n",
    "#### Lists\n",
    "\n",
    "Sometimes you want numbered lists:\n",
    "\n",
    "1. Item 1\n",
    "2. Item 2\n",
    "3. Item 3\n",
    "   * Item 3a\n",
    "   * Item 3b\n"
   ]
  },
  {
   "cell_type": "markdown",
   "metadata": {
    "slideshow": {
     "slide_type": "subslide"
    }
   },
   "source": [
    "# Headline Subslide\n",
    "\n",
    "#### Lists\n",
    "\n",
    "Sometimes you want bullet points:\n",
    "\n",
    "* Item 1\n",
    "* Item 2\n",
    "  * Item 2a\n",
    "  * Item 2b\n",
    "* This is a long long long long long long long long long long long long long long long long long long long long long long long long long list"
   ]
  },
  {
   "cell_type": "markdown",
   "metadata": {
    "slideshow": {
     "slide_type": "subslide"
    }
   },
   "source": [
    "# Headline Subslide\n",
    "#### Blockquotes\n",
    "\n",
    "As Kanye West said:\n",
    "\n",
    "> We're living the future so\n",
    "> the present is our past.\n",
    "\n",
    "#### inline code\n",
    "I think you should use an\n",
    "`<addr>` element here instead."
   ]
  },
  {
   "cell_type": "markdown",
   "metadata": {
    "slideshow": {
     "slide_type": "subslide"
    }
   },
   "source": [
    "# Table\n",
    "\n",
    "| Tables        | Are           | Cool  |\n",
    "| ------------- |:-------------:| -----:|\n",
    "| col 3 is      | right-aligned | $1600 |\n",
    "| col 2 is      | centered      |   $12 |\n",
    "| zebra stripes | are neat      |    $1 |"
   ]
  },
  {
   "cell_type": "markdown",
   "metadata": {
    "slideshow": {
     "slide_type": "subslide"
    }
   },
   "source": [
    "# Images\n",
    "If you want to embed images, this is how you do it:\n",
    "\n",
    "![Color](img/colorcontext.png)"
   ]
  },
  {
   "cell_type": "markdown",
   "metadata": {
    "slideshow": {
     "slide_type": "subslide"
    }
   },
   "source": [
    "# Links\n",
    "\n",
    "- https://guides.github.com/features/mastering-markdown/\n",
    "\n",
    "- https://github.com/adam-p/markdown-here/wiki/Markdown-Cheatsheet"
   ]
  },
  {
   "cell_type": "markdown",
   "metadata": {
    "slideshow": {
     "slide_type": "skip"
    }
   },
   "source": [
    "### Q&A Slide"
   ]
  },
  {
   "cell_type": "raw",
   "metadata": {
    "slideshow": {
     "slide_type": "slide"
    }
   },
   "source": [
    "<image>\n",
    "</section>\n",
    "<section data-background=\"#0093C9\" data-state=\"no-title-footer\">\n",
    "  <div class=\"divider_h1\">\n",
    "    <h1>Questions???</h1>\n",
    "  </div>\n",
    "</section>\n",
    "</image>"
   ]
  }
 ],
 "metadata": {
  "celltoolbar": "Slideshow",
  "hide_input": false,
  "kernelspec": {
   "display_name": "Python 3",
   "language": "python",
   "name": "python3"
  },
  "language_info": {
   "codemirror_mode": {
    "name": "ipython",
    "version": 3
   },
   "file_extension": ".py",
   "mimetype": "text/x-python",
   "name": "python",
   "nbconvert_exporter": "python",
   "pygments_lexer": "ipython3",
   "version": "3.6.2"
  },
  "toc": {
   "colors": {
    "hover_highlight": "#DAA520",
    "navigate_num": "#000000",
    "navigate_text": "#333333",
    "running_highlight": "#FF0000",
    "selected_highlight": "#FFD700",
    "sidebar_border": "#EEEEEE",
    "wrapper_background": "#FFFFFF"
   },
   "moveMenuLeft": true,
   "nav_menu": {
    "height": "412px",
    "width": "253px"
   },
   "navigate_menu": true,
   "number_sections": false,
   "sideBar": true,
   "threshold": 4,
   "toc_cell": true,
   "toc_position": {
    "height": "751px",
    "left": "0px",
    "right": "1387.01px",
    "top": "106px",
    "width": "213px"
   },
   "toc_section_display": "block",
   "toc_window_display": true,
   "widenNotebook": false
  },
  "widgets": {
   "state": {},
   "version": "1.1.2"
  }
 },
 "nbformat": 4,
 "nbformat_minor": 1
}
